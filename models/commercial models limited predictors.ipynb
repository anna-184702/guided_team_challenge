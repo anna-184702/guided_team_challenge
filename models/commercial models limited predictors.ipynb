{
 "cells": [
  {
   "cell_type": "markdown",
   "metadata": {},
   "source": [
    "# Commercial models - limited predictor model selection"
   ]
  },
  {
   "cell_type": "code",
   "execution_count": 1,
   "metadata": {},
   "outputs": [],
   "source": [
    "from model_builder import *"
   ]
  },
  {
   "cell_type": "code",
   "execution_count": 5,
   "metadata": {},
   "outputs": [],
   "source": [
    "# Set the model CV search conditions\n",
    "unique_depths = [3, 4, 5, 6, 7] #, 12, 15, 20]\n",
    "unique_n_estimators = [25, 50, 75, 100, 125, 150]"
   ]
  },
  {
   "cell_type": "markdown",
   "metadata": {},
   "source": [
    "### Electric heating"
   ]
  },
  {
   "cell_type": "code",
   "execution_count": 6,
   "metadata": {},
   "outputs": [
    {
     "name": "stdout",
     "output_type": "stream",
     "text": [
      "Fitting 2 folds for each of 30 candidates, totalling 60 fits\n",
      "[Parallel(n_jobs=1)]: Using backend SequentialBackend with 1 concurrent workers.\n",
      "[CV] max_depth=3, n_estimators=25 ....................................\n",
      "[CV] ........ max_depth=3, n_estimators=25, score=1.741, total=   0.1s\n",
      "[Parallel(n_jobs=1)]: Done   1 out of   1 | elapsed:    0.1s remaining:    0.0s\n",
      "[CV] max_depth=3, n_estimators=25 ....................................\n",
      "[CV] ........ max_depth=3, n_estimators=25, score=3.122, total=   0.1s\n",
      "[Parallel(n_jobs=1)]: Done   2 out of   2 | elapsed:    0.1s remaining:    0.0s\n",
      "[CV] max_depth=3, n_estimators=50 ....................................\n",
      "[CV] ........ max_depth=3, n_estimators=50, score=1.759, total=   0.1s\n",
      "[Parallel(n_jobs=1)]: Done   3 out of   3 | elapsed:    0.2s remaining:    0.0s\n",
      "[CV] max_depth=3, n_estimators=50 ....................................\n",
      "[CV] ........ max_depth=3, n_estimators=50, score=3.125, total=   0.1s\n",
      "[Parallel(n_jobs=1)]: Done   4 out of   4 | elapsed:    0.3s remaining:    0.0s\n",
      "[CV] max_depth=3, n_estimators=75 ....................................\n",
      "[CV] ........ max_depth=3, n_estimators=75, score=1.708, total=   0.2s\n",
      "[Parallel(n_jobs=1)]: Done   5 out of   5 | elapsed:    0.5s remaining:    0.0s\n",
      "[CV] max_depth=3, n_estimators=75 ....................................\n",
      "[CV] ........ max_depth=3, n_estimators=75, score=3.112, total=   0.1s\n",
      "[Parallel(n_jobs=1)]: Done   6 out of   6 | elapsed:    0.6s remaining:    0.0s\n",
      "[CV] max_depth=3, n_estimators=100 ...................................\n",
      "[CV] ....... max_depth=3, n_estimators=100, score=1.715, total=   0.2s\n",
      "[Parallel(n_jobs=1)]: Done   7 out of   7 | elapsed:    0.8s remaining:    0.0s\n",
      "[CV] max_depth=3, n_estimators=100 ...................................\n",
      "[CV] ....... max_depth=3, n_estimators=100, score=3.123, total=   0.2s\n",
      "[Parallel(n_jobs=1)]: Done   8 out of   8 | elapsed:    1.0s remaining:    0.0s\n",
      "[CV] max_depth=3, n_estimators=125 ...................................\n",
      "[CV] ....... max_depth=3, n_estimators=125, score=1.748, total=   0.2s\n",
      "[Parallel(n_jobs=1)]: Done   9 out of   9 | elapsed:    1.3s remaining:    0.0s\n",
      "[CV] max_depth=3, n_estimators=125 ...................................\n",
      "[CV] ....... max_depth=3, n_estimators=125, score=3.117, total=   0.2s\n",
      "[Parallel(n_jobs=1)]: Done  10 out of  10 | elapsed:    1.5s remaining:    0.0s\n",
      "[CV] max_depth=3, n_estimators=150 ...................................\n",
      "[CV] ....... max_depth=3, n_estimators=150, score=1.711, total=   0.3s\n",
      "[Parallel(n_jobs=1)]: Done  11 out of  11 | elapsed:    1.8s remaining:    0.0s\n",
      "[CV] max_depth=3, n_estimators=150 ...................................\n",
      "[CV] ....... max_depth=3, n_estimators=150, score=3.111, total=   0.3s\n",
      "[Parallel(n_jobs=1)]: Done  12 out of  12 | elapsed:    2.1s remaining:    0.0s\n",
      "[CV] max_depth=4, n_estimators=25 ....................................\n",
      "[CV] ........ max_depth=4, n_estimators=25, score=1.766, total=   0.1s\n",
      "[Parallel(n_jobs=1)]: Done  13 out of  13 | elapsed:    2.2s remaining:    0.0s\n",
      "[CV] max_depth=4, n_estimators=25 ....................................\n",
      "[CV] ........ max_depth=4, n_estimators=25, score=3.126, total=   0.1s\n",
      "[Parallel(n_jobs=1)]: Done  14 out of  14 | elapsed:    2.2s remaining:    0.0s\n",
      "[CV] max_depth=4, n_estimators=50 ....................................\n",
      "[CV] ........ max_depth=4, n_estimators=50, score=1.753, total=   0.1s\n",
      "[Parallel(n_jobs=1)]: Done  15 out of  15 | elapsed:    2.4s remaining:    0.0s\n",
      "[CV] max_depth=4, n_estimators=50 ....................................\n",
      "[CV] ........ max_depth=4, n_estimators=50, score=3.105, total=   0.1s\n",
      "[Parallel(n_jobs=1)]: Done  16 out of  16 | elapsed:    2.5s remaining:    0.0s\n",
      "[CV] max_depth=4, n_estimators=75 ....................................\n",
      "[CV] ........ max_depth=4, n_estimators=75, score=1.705, total=   0.2s\n",
      "[Parallel(n_jobs=1)]: Done  17 out of  17 | elapsed:    2.7s remaining:    0.0s\n",
      "[CV] max_depth=4, n_estimators=75 ....................................\n",
      "[CV] ........ max_depth=4, n_estimators=75, score=3.093, total=   0.2s\n",
      "[Parallel(n_jobs=1)]: Done  18 out of  18 | elapsed:    2.9s remaining:    0.0s\n",
      "[CV] max_depth=4, n_estimators=100 ...................................\n",
      "[CV] ....... max_depth=4, n_estimators=100, score=1.723, total=   0.3s\n",
      "[Parallel(n_jobs=1)]: Done  19 out of  19 | elapsed:    3.2s remaining:    0.0s\n",
      "[CV] max_depth=4, n_estimators=100 ...................................\n",
      "[CV] ....... max_depth=4, n_estimators=100, score=3.099, total=   0.3s\n",
      "[Parallel(n_jobs=1)]: Done  20 out of  20 | elapsed:    3.5s remaining:    0.0s\n",
      "[CV] max_depth=4, n_estimators=125 ...................................\n",
      "[CV] ....... max_depth=4, n_estimators=125, score=1.735, total=   0.3s\n",
      "[Parallel(n_jobs=1)]: Done  21 out of  21 | elapsed:    3.8s remaining:    0.0s\n",
      "[CV] max_depth=4, n_estimators=125 ...................................\n",
      "[CV] ....... max_depth=4, n_estimators=125, score=3.103, total=   0.3s\n",
      "[Parallel(n_jobs=1)]: Done  22 out of  22 | elapsed:    4.1s remaining:    0.0s\n",
      "[CV] max_depth=4, n_estimators=150 ...................................\n",
      "[CV] ....... max_depth=4, n_estimators=150, score=1.760, total=   0.4s\n",
      "[Parallel(n_jobs=1)]: Done  23 out of  23 | elapsed:    4.5s remaining:    0.0s\n",
      "[CV] max_depth=4, n_estimators=150 ...................................\n",
      "[CV] ....... max_depth=4, n_estimators=150, score=3.108, total=   0.4s\n",
      "[Parallel(n_jobs=1)]: Done  24 out of  24 | elapsed:    4.9s remaining:    0.0s\n",
      "[CV] max_depth=5, n_estimators=25 ....................................\n",
      "[CV] ........ max_depth=5, n_estimators=25, score=1.780, total=   0.1s\n",
      "[Parallel(n_jobs=1)]: Done  25 out of  25 | elapsed:    4.9s remaining:    0.0s\n",
      "[CV] max_depth=5, n_estimators=25 ....................................\n",
      "[CV] ........ max_depth=5, n_estimators=25, score=3.097, total=   0.1s\n",
      "[Parallel(n_jobs=1)]: Done  26 out of  26 | elapsed:    5.0s remaining:    0.0s\n",
      "[CV] max_depth=5, n_estimators=50 ....................................\n",
      "[CV] ........ max_depth=5, n_estimators=50, score=1.756, total=   0.1s\n",
      "[Parallel(n_jobs=1)]: Done  27 out of  27 | elapsed:    5.1s remaining:    0.0s\n",
      "[CV] max_depth=5, n_estimators=50 ....................................\n",
      "[CV] ........ max_depth=5, n_estimators=50, score=3.093, total=   0.1s\n",
      "[Parallel(n_jobs=1)]: Done  28 out of  28 | elapsed:    5.3s remaining:    0.0s\n",
      "[CV] max_depth=5, n_estimators=75 ....................................\n",
      "[CV] ........ max_depth=5, n_estimators=75, score=1.845, total=   0.2s\n",
      "[Parallel(n_jobs=1)]: Done  29 out of  29 | elapsed:    5.5s remaining:    0.0s\n",
      "[CV] max_depth=5, n_estimators=75 ....................................\n",
      "[CV] ........ max_depth=5, n_estimators=75, score=3.096, total=   0.2s\n",
      "[Parallel(n_jobs=1)]: Done  30 out of  30 | elapsed:    5.7s remaining:    0.0s\n",
      "[CV] max_depth=5, n_estimators=100 ...................................\n",
      "[CV] ....... max_depth=5, n_estimators=100, score=1.816, total=   0.3s\n",
      "[Parallel(n_jobs=1)]: Done  31 out of  31 | elapsed:    6.1s remaining:    0.0s\n",
      "[CV] max_depth=5, n_estimators=100 ...................................\n",
      "[CV] ....... max_depth=5, n_estimators=100, score=3.101, total=   0.3s\n",
      "[Parallel(n_jobs=1)]: Done  32 out of  32 | elapsed:    6.3s remaining:    0.0s\n",
      "[CV] max_depth=5, n_estimators=125 ...................................\n",
      "[CV] ....... max_depth=5, n_estimators=125, score=1.837, total=   0.3s\n",
      "[Parallel(n_jobs=1)]: Done  33 out of  33 | elapsed:    6.6s remaining:    0.0s\n",
      "[CV] max_depth=5, n_estimators=125 ...................................\n",
      "[CV] ....... max_depth=5, n_estimators=125, score=3.109, total=   0.3s\n",
      "[Parallel(n_jobs=1)]: Done  34 out of  34 | elapsed:    7.0s remaining:    0.0s\n",
      "[CV] max_depth=5, n_estimators=150 ...................................\n",
      "[CV] ....... max_depth=5, n_estimators=150, score=1.822, total=   0.4s\n",
      "[Parallel(n_jobs=1)]: Done  35 out of  35 | elapsed:    7.4s remaining:    0.0s\n",
      "[CV] max_depth=5, n_estimators=150 ...................................\n",
      "[CV] ....... max_depth=5, n_estimators=150, score=3.104, total=   0.6s\n",
      "[Parallel(n_jobs=1)]: Done  36 out of  36 | elapsed:    8.0s remaining:    0.0s\n",
      "[CV] max_depth=6, n_estimators=25 ....................................\n",
      "[CV] ........ max_depth=6, n_estimators=25, score=1.994, total=   0.1s\n",
      "[Parallel(n_jobs=1)]: Done  37 out of  37 | elapsed:    8.0s remaining:    0.0s\n",
      "[CV] max_depth=6, n_estimators=25 ....................................\n",
      "[CV] ........ max_depth=6, n_estimators=25, score=3.107, total=   0.1s\n",
      "[Parallel(n_jobs=1)]: Done  38 out of  38 | elapsed:    8.1s remaining:    0.0s\n",
      "[CV] max_depth=6, n_estimators=50 ....................................\n"
     ]
    },
    {
     "name": "stdout",
     "output_type": "stream",
     "text": [
      "[CV] ........ max_depth=6, n_estimators=50, score=1.729, total=   0.2s\n",
      "[Parallel(n_jobs=1)]: Done  39 out of  39 | elapsed:    8.4s remaining:    0.0s\n",
      "[CV] max_depth=6, n_estimators=50 ....................................\n",
      "[CV] ........ max_depth=6, n_estimators=50, score=3.095, total=   0.2s\n",
      "[Parallel(n_jobs=1)]: Done  40 out of  40 | elapsed:    8.6s remaining:    0.0s\n",
      "[CV] max_depth=6, n_estimators=75 ....................................\n",
      "[CV] ........ max_depth=6, n_estimators=75, score=1.820, total=   0.2s\n",
      "[Parallel(n_jobs=1)]: Done  41 out of  41 | elapsed:    8.8s remaining:    0.0s\n",
      "[CV] max_depth=6, n_estimators=75 ....................................\n",
      "[CV] ........ max_depth=6, n_estimators=75, score=3.085, total=   0.3s\n",
      "[Parallel(n_jobs=1)]: Done  42 out of  42 | elapsed:    9.1s remaining:    0.0s\n",
      "[CV] max_depth=6, n_estimators=100 ...................................\n",
      "[CV] ....... max_depth=6, n_estimators=100, score=1.816, total=   0.4s\n",
      "[Parallel(n_jobs=1)]: Done  43 out of  43 | elapsed:    9.5s remaining:    0.0s\n",
      "[CV] max_depth=6, n_estimators=100 ...................................\n",
      "[CV] ....... max_depth=6, n_estimators=100, score=3.077, total=   0.3s\n",
      "[Parallel(n_jobs=1)]: Done  44 out of  44 | elapsed:    9.7s remaining:    0.0s\n",
      "[CV] max_depth=6, n_estimators=125 ...................................\n",
      "[CV] ....... max_depth=6, n_estimators=125, score=1.834, total=   0.3s\n",
      "[Parallel(n_jobs=1)]: Done  45 out of  45 | elapsed:   10.1s remaining:    0.0s\n",
      "[CV] max_depth=6, n_estimators=125 ...................................\n",
      "[CV] ....... max_depth=6, n_estimators=125, score=3.101, total=   0.4s\n",
      "[Parallel(n_jobs=1)]: Done  46 out of  46 | elapsed:   10.5s remaining:    0.0s\n",
      "[CV] max_depth=6, n_estimators=150 ...................................\n",
      "[CV] ....... max_depth=6, n_estimators=150, score=1.791, total=   0.5s\n",
      "[Parallel(n_jobs=1)]: Done  47 out of  47 | elapsed:   11.0s remaining:    0.0s\n",
      "[CV] max_depth=6, n_estimators=150 ...................................\n",
      "[CV] ....... max_depth=6, n_estimators=150, score=3.087, total=   0.4s\n",
      "[Parallel(n_jobs=1)]: Done  48 out of  48 | elapsed:   11.4s remaining:    0.0s\n",
      "[CV] max_depth=7, n_estimators=25 ....................................\n",
      "[CV] ........ max_depth=7, n_estimators=25, score=1.858, total=   0.1s\n",
      "[Parallel(n_jobs=1)]: Done  49 out of  49 | elapsed:   11.5s remaining:    0.0s\n",
      "[CV] max_depth=7, n_estimators=25 ....................................\n",
      "[CV] ........ max_depth=7, n_estimators=25, score=3.111, total=   0.1s\n",
      "[Parallel(n_jobs=1)]: Done  50 out of  50 | elapsed:   11.6s remaining:    0.0s\n",
      "[CV] max_depth=7, n_estimators=50 ....................................\n",
      "[CV] ........ max_depth=7, n_estimators=50, score=1.872, total=   0.2s\n",
      "[Parallel(n_jobs=1)]: Done  51 out of  51 | elapsed:   11.8s remaining:    0.0s\n",
      "[CV] max_depth=7, n_estimators=50 ....................................\n",
      "[CV] ........ max_depth=7, n_estimators=50, score=3.079, total=   0.2s\n",
      "[Parallel(n_jobs=1)]: Done  52 out of  52 | elapsed:   11.9s remaining:    0.0s\n",
      "[CV] max_depth=7, n_estimators=75 ....................................\n",
      "[CV] ........ max_depth=7, n_estimators=75, score=1.801, total=   0.3s\n",
      "[Parallel(n_jobs=1)]: Done  53 out of  53 | elapsed:   12.2s remaining:    0.0s\n",
      "[CV] max_depth=7, n_estimators=75 ....................................\n",
      "[CV] ........ max_depth=7, n_estimators=75, score=3.080, total=   0.3s\n",
      "[Parallel(n_jobs=1)]: Done  54 out of  54 | elapsed:   12.5s remaining:    0.0s\n",
      "[CV] max_depth=7, n_estimators=100 ...................................\n",
      "[CV] ....... max_depth=7, n_estimators=100, score=1.782, total=   0.3s\n",
      "[Parallel(n_jobs=1)]: Done  55 out of  55 | elapsed:   12.8s remaining:    0.0s\n",
      "[CV] max_depth=7, n_estimators=100 ...................................\n",
      "[CV] ....... max_depth=7, n_estimators=100, score=3.072, total=   0.3s\n",
      "[Parallel(n_jobs=1)]: Done  56 out of  56 | elapsed:   13.1s remaining:    0.0s\n",
      "[CV] max_depth=7, n_estimators=125 ...................................\n",
      "[CV] ....... max_depth=7, n_estimators=125, score=1.853, total=   0.4s\n",
      "[Parallel(n_jobs=1)]: Done  57 out of  57 | elapsed:   13.5s remaining:    0.0s\n",
      "[CV] max_depth=7, n_estimators=125 ...................................\n",
      "[CV] ....... max_depth=7, n_estimators=125, score=3.077, total=   0.4s\n",
      "[Parallel(n_jobs=1)]: Done  58 out of  58 | elapsed:   13.9s remaining:    0.0s\n",
      "[CV] max_depth=7, n_estimators=150 ...................................\n",
      "[CV] ....... max_depth=7, n_estimators=150, score=1.827, total=   0.5s\n",
      "[Parallel(n_jobs=1)]: Done  59 out of  59 | elapsed:   14.4s remaining:    0.0s\n",
      "[CV] max_depth=7, n_estimators=150 ...................................\n",
      "[CV] ....... max_depth=7, n_estimators=150, score=3.080, total=   0.5s\n",
      "[Parallel(n_jobs=1)]: Done  60 out of  60 | elapsed:   14.9s remaining:    0.0s\n",
      "[Parallel(n_jobs=1)]: Done  60 out of  60 | elapsed:   14.9s finished\n"
     ]
    }
   ],
   "source": [
    "predictors, targets = get_targets_predictors('heating', 'elec', lim = True)\n",
    "gscv_elec = grid_search_xgbr(predictors, targets.values.ravel(), unique_depths, unique_n_estimators)"
   ]
  },
  {
   "cell_type": "code",
   "execution_count": 7,
   "metadata": {},
   "outputs": [
    {
     "data": {
      "image/png": "[encoded data removed]",
      "text/plain": [
       "<Figure size 432x288 with 1 Axes>"
      ]
     },
     "metadata": {
      "needs_background": "light"
     },
     "output_type": "display_data"
    }
   ],
   "source": [
    "plot_gs_results(gscv_elec, unique_depths, unique_n_estimators)"
   ]
  },
  {
   "cell_type": "code",
   "execution_count": 14,
   "metadata": {},
   "outputs": [
    {
     "name": "stderr",
     "output_type": "stream",
     "text": [
      "/Library/Frameworks/Python.framework/Versions/3.7/lib/python3.7/site-packages/ipykernel_launcher.py:3: DataConversionWarning: A column-vector y was passed when a 1d array was expected. Please change the shape of y to (n_samples,), for example using ravel().\n",
      "  This is separate from the ipykernel package so we can avoid doing imports until\n"
     ]
    }
   ],
   "source": [
    "model = RandomForestRegressor(max_depth = 4, n_estimators = 75)\n",
    "x_train, x_test, y_train, y_test = train_test_split(predictors, targets, test_size = 0.2)\n",
    "model.fit(x_train, y_train)\n",
    "preds = model.predict(x_test)"
   ]
  },
  {
   "cell_type": "code",
   "execution_count": 15,
   "metadata": {},
   "outputs": [
    {
     "data": {
      "text/plain": [
       "<matplotlib.collections.PathCollection at 0x115b02c50>"
      ]
     },
     "execution_count": 15,
     "metadata": {},
     "output_type": "execute_result"
    },
    {
     "data": {
      "image/png": "[encoded data removed]",
      "text/plain": [
       "<Figure size 432x288 with 1 Axes>"
      ]
     },
     "metadata": {
      "needs_background": "light"
     },
     "output_type": "display_data"
    }
   ],
   "source": [
    "plt.scatter(preds, y_test)"
   ]
  },
  {
   "cell_type": "markdown",
   "metadata": {},
   "source": [
    "### Natural gas heating"
   ]
  },
  {
   "cell_type": "code",
   "execution_count": 23,
   "metadata": {},
   "outputs": [
    {
     "name": "stdout",
     "output_type": "stream",
     "text": [
      "Fitting 2 folds for each of 30 candidates, totalling 60 fits\n",
      "[Parallel(n_jobs=1)]: Using backend SequentialBackend with 1 concurrent workers.\n",
      "[CV] max_depth=3, n_estimators=25 ....................................\n",
      "[CV] ........ max_depth=3, n_estimators=25, score=0.611, total=   0.0s\n",
      "[Parallel(n_jobs=1)]: Done   1 out of   1 | elapsed:    0.0s remaining:    0.0s\n",
      "[CV] max_depth=3, n_estimators=25 ....................................\n",
      "[CV] ........ max_depth=3, n_estimators=25, score=1.798, total=   0.0s\n",
      "[Parallel(n_jobs=1)]: Done   2 out of   2 | elapsed:    0.1s remaining:    0.0s\n",
      "[CV] max_depth=3, n_estimators=50 ....................................\n",
      "[CV] ........ max_depth=3, n_estimators=50, score=0.661, total=   0.1s\n",
      "[Parallel(n_jobs=1)]: Done   3 out of   3 | elapsed:    0.1s remaining:    0.0s\n",
      "[CV] max_depth=3, n_estimators=50 ....................................\n",
      "[CV] ........ max_depth=3, n_estimators=50, score=1.793, total=   0.1s\n",
      "[Parallel(n_jobs=1)]: Done   4 out of   4 | elapsed:    0.2s remaining:    0.0s\n",
      "[CV] max_depth=3, n_estimators=75 ....................................\n",
      "[CV] ........ max_depth=3, n_estimators=75, score=0.608, total=   0.1s\n",
      "[Parallel(n_jobs=1)]: Done   5 out of   5 | elapsed:    0.3s remaining:    0.0s\n",
      "[CV] max_depth=3, n_estimators=75 ....................................\n",
      "[CV] ........ max_depth=3, n_estimators=75, score=1.794, total=   0.1s\n",
      "[Parallel(n_jobs=1)]: Done   6 out of   6 | elapsed:    0.4s remaining:    0.0s\n",
      "[CV] max_depth=3, n_estimators=100 ...................................\n",
      "[CV] ....... max_depth=3, n_estimators=100, score=0.621, total=   0.1s\n",
      "[Parallel(n_jobs=1)]: Done   7 out of   7 | elapsed:    0.6s remaining:    0.0s\n",
      "[CV] max_depth=3, n_estimators=100 ...................................\n",
      "[CV] ....... max_depth=3, n_estimators=100, score=1.795, total=   0.1s\n",
      "[Parallel(n_jobs=1)]: Done   8 out of   8 | elapsed:    0.7s remaining:    0.0s\n",
      "[CV] max_depth=3, n_estimators=125 ...................................\n",
      "[CV] ....... max_depth=3, n_estimators=125, score=0.656, total=   0.2s\n",
      "[Parallel(n_jobs=1)]: Done   9 out of   9 | elapsed:    0.9s remaining:    0.0s\n",
      "[CV] max_depth=3, n_estimators=125 ...................................\n",
      "[CV] ....... max_depth=3, n_estimators=125, score=1.795, total=   0.2s\n",
      "[Parallel(n_jobs=1)]: Done  10 out of  10 | elapsed:    1.1s remaining:    0.0s\n",
      "[CV] max_depth=3, n_estimators=150 ...................................\n",
      "[CV] ....... max_depth=3, n_estimators=150, score=0.638, total=   0.2s\n",
      "[Parallel(n_jobs=1)]: Done  11 out of  11 | elapsed:    1.3s remaining:    0.0s\n",
      "[CV] max_depth=3, n_estimators=150 ...................................\n",
      "[CV] ....... max_depth=3, n_estimators=150, score=1.795, total=   0.2s\n",
      "[Parallel(n_jobs=1)]: Done  12 out of  12 | elapsed:    1.5s remaining:    0.0s\n",
      "[CV] max_depth=4, n_estimators=25 ....................................\n",
      "[CV] ........ max_depth=4, n_estimators=25, score=0.687, total=   0.0s\n",
      "[Parallel(n_jobs=1)]: Done  13 out of  13 | elapsed:    1.5s remaining:    0.0s\n",
      "[CV] max_depth=4, n_estimators=25 ....................................\n",
      "[CV] ........ max_depth=4, n_estimators=25, score=1.793, total=   0.0s\n",
      "[Parallel(n_jobs=1)]: Done  14 out of  14 | elapsed:    1.6s remaining:    0.0s\n",
      "[CV] max_depth=4, n_estimators=50 ....................................\n",
      "[CV] ........ max_depth=4, n_estimators=50, score=0.662, total=   0.1s\n",
      "[Parallel(n_jobs=1)]: Done  15 out of  15 | elapsed:    1.6s remaining:    0.0s\n",
      "[CV] max_depth=4, n_estimators=50 ....................................\n",
      "[CV] ........ max_depth=4, n_estimators=50, score=1.792, total=   0.1s\n",
      "[Parallel(n_jobs=1)]: Done  16 out of  16 | elapsed:    1.7s remaining:    0.0s\n",
      "[CV] max_depth=4, n_estimators=75 ....................................\n",
      "[CV] ........ max_depth=4, n_estimators=75, score=0.666, total=   0.1s\n",
      "[Parallel(n_jobs=1)]: Done  17 out of  17 | elapsed:    1.9s remaining:    0.0s\n",
      "[CV] max_depth=4, n_estimators=75 ....................................\n",
      "[CV] ........ max_depth=4, n_estimators=75, score=1.792, total=   0.1s\n",
      "[Parallel(n_jobs=1)]: Done  18 out of  18 | elapsed:    2.0s remaining:    0.0s\n",
      "[CV] max_depth=4, n_estimators=100 ...................................\n",
      "[CV] ....... max_depth=4, n_estimators=100, score=0.682, total=   0.1s\n",
      "[Parallel(n_jobs=1)]: Done  19 out of  19 | elapsed:    2.1s remaining:    0.0s\n",
      "[CV] max_depth=4, n_estimators=100 ...................................\n",
      "[CV] ....... max_depth=4, n_estimators=100, score=1.793, total=   0.1s\n",
      "[Parallel(n_jobs=1)]: Done  20 out of  20 | elapsed:    2.3s remaining:    0.0s\n",
      "[CV] max_depth=4, n_estimators=125 ...................................\n",
      "[CV] ....... max_depth=4, n_estimators=125, score=0.693, total=   0.2s\n",
      "[Parallel(n_jobs=1)]: Done  21 out of  21 | elapsed:    2.5s remaining:    0.0s\n",
      "[CV] max_depth=4, n_estimators=125 ...................................\n",
      "[CV] ....... max_depth=4, n_estimators=125, score=1.795, total=   0.2s\n",
      "[Parallel(n_jobs=1)]: Done  22 out of  22 | elapsed:    2.6s remaining:    0.0s\n",
      "[CV] max_depth=4, n_estimators=150 ...................................\n",
      "[CV] ....... max_depth=4, n_estimators=150, score=0.675, total=   0.2s\n",
      "[Parallel(n_jobs=1)]: Done  23 out of  23 | elapsed:    2.9s remaining:    0.0s\n",
      "[CV] max_depth=4, n_estimators=150 ...................................\n",
      "[CV] ....... max_depth=4, n_estimators=150, score=1.792, total=   0.2s\n",
      "[Parallel(n_jobs=1)]: Done  24 out of  24 | elapsed:    3.1s remaining:    0.0s\n",
      "[CV] max_depth=5, n_estimators=25 ....................................\n",
      "[CV] ........ max_depth=5, n_estimators=25, score=0.826, total=   0.1s\n",
      "[Parallel(n_jobs=1)]: Done  25 out of  25 | elapsed:    3.1s remaining:    0.0s\n",
      "[CV] max_depth=5, n_estimators=25 ....................................\n",
      "[CV] ........ max_depth=5, n_estimators=25, score=1.788, total=   0.0s\n",
      "[Parallel(n_jobs=1)]: Done  26 out of  26 | elapsed:    3.2s remaining:    0.0s\n",
      "[CV] max_depth=5, n_estimators=50 ....................................\n",
      "[CV] ........ max_depth=5, n_estimators=50, score=0.735, total=   0.1s\n",
      "[Parallel(n_jobs=1)]: Done  27 out of  27 | elapsed:    3.3s remaining:    0.0s\n",
      "[CV] max_depth=5, n_estimators=50 ....................................\n",
      "[CV] ........ max_depth=5, n_estimators=50, score=1.793, total=   0.1s\n",
      "[Parallel(n_jobs=1)]: Done  28 out of  28 | elapsed:    3.4s remaining:    0.0s\n",
      "[CV] max_depth=5, n_estimators=75 ....................................\n",
      "[CV] ........ max_depth=5, n_estimators=75, score=0.744, total=   0.1s\n",
      "[Parallel(n_jobs=1)]: Done  29 out of  29 | elapsed:    3.5s remaining:    0.0s\n",
      "[CV] max_depth=5, n_estimators=75 ....................................\n",
      "[CV] ........ max_depth=5, n_estimators=75, score=1.792, total=   0.2s\n",
      "[Parallel(n_jobs=1)]: Done  30 out of  30 | elapsed:    3.7s remaining:    0.0s\n",
      "[CV] max_depth=5, n_estimators=100 ...................................\n",
      "[CV] ....... max_depth=5, n_estimators=100, score=0.713, total=   0.2s\n",
      "[Parallel(n_jobs=1)]: Done  31 out of  31 | elapsed:    3.9s remaining:    0.0s\n",
      "[CV] max_depth=5, n_estimators=100 ...................................\n",
      "[CV] ....... max_depth=5, n_estimators=100, score=1.791, total=   0.2s\n",
      "[Parallel(n_jobs=1)]: Done  32 out of  32 | elapsed:    4.1s remaining:    0.0s\n",
      "[CV] max_depth=5, n_estimators=125 ...................................\n",
      "[CV] ....... max_depth=5, n_estimators=125, score=0.762, total=   0.3s\n",
      "[Parallel(n_jobs=1)]: Done  33 out of  33 | elapsed:    4.4s remaining:    0.0s\n",
      "[CV] max_depth=5, n_estimators=125 ...................................\n",
      "[CV] ....... max_depth=5, n_estimators=125, score=1.793, total=   0.2s\n",
      "[Parallel(n_jobs=1)]: Done  34 out of  34 | elapsed:    4.6s remaining:    0.0s\n",
      "[CV] max_depth=5, n_estimators=150 ...................................\n",
      "[CV] ....... max_depth=5, n_estimators=150, score=0.725, total=   0.2s\n",
      "[Parallel(n_jobs=1)]: Done  35 out of  35 | elapsed:    4.8s remaining:    0.0s\n",
      "[CV] max_depth=5, n_estimators=150 ...................................\n",
      "[CV] ....... max_depth=5, n_estimators=150, score=1.790, total=   0.2s\n",
      "[Parallel(n_jobs=1)]: Done  36 out of  36 | elapsed:    5.0s remaining:    0.0s\n",
      "[CV] max_depth=6, n_estimators=25 ....................................\n",
      "[CV] ........ max_depth=6, n_estimators=25, score=0.906, total=   0.0s\n",
      "[Parallel(n_jobs=1)]: Done  37 out of  37 | elapsed:    5.1s remaining:    0.0s\n",
      "[CV] max_depth=6, n_estimators=25 ....................................\n",
      "[CV] ........ max_depth=6, n_estimators=25, score=1.789, total=   0.0s\n",
      "[Parallel(n_jobs=1)]: Done  38 out of  38 | elapsed:    5.1s remaining:    0.0s\n",
      "[CV] max_depth=6, n_estimators=50 ....................................\n",
      "[CV] ........ max_depth=6, n_estimators=50, score=0.793, total=   0.1s\n",
      "[Parallel(n_jobs=1)]: Done  39 out of  39 | elapsed:    5.2s remaining:    0.0s\n",
      "[CV] max_depth=6, n_estimators=50 ....................................\n"
     ]
    },
    {
     "name": "stdout",
     "output_type": "stream",
     "text": [
      "[CV] ........ max_depth=6, n_estimators=50, score=1.790, total=   0.1s\n",
      "[Parallel(n_jobs=1)]: Done  40 out of  40 | elapsed:    5.3s remaining:    0.0s\n",
      "[CV] max_depth=6, n_estimators=75 ....................................\n",
      "[CV] ........ max_depth=6, n_estimators=75, score=0.753, total=   0.1s\n",
      "[Parallel(n_jobs=1)]: Done  41 out of  41 | elapsed:    5.4s remaining:    0.0s\n",
      "[CV] max_depth=6, n_estimators=75 ....................................\n",
      "[CV] ........ max_depth=6, n_estimators=75, score=1.792, total=   0.1s\n",
      "[Parallel(n_jobs=1)]: Done  42 out of  42 | elapsed:    5.5s remaining:    0.0s\n",
      "[CV] max_depth=6, n_estimators=100 ...................................\n",
      "[CV] ....... max_depth=6, n_estimators=100, score=0.778, total=   0.2s\n",
      "[Parallel(n_jobs=1)]: Done  43 out of  43 | elapsed:    5.7s remaining:    0.0s\n",
      "[CV] max_depth=6, n_estimators=100 ...................................\n",
      "[CV] ....... max_depth=6, n_estimators=100, score=1.790, total=   0.2s\n",
      "[Parallel(n_jobs=1)]: Done  44 out of  44 | elapsed:    5.9s remaining:    0.0s\n",
      "[CV] max_depth=6, n_estimators=125 ...................................\n",
      "[CV] ....... max_depth=6, n_estimators=125, score=0.754, total=   0.2s\n",
      "[Parallel(n_jobs=1)]: Done  45 out of  45 | elapsed:    6.0s remaining:    0.0s\n",
      "[CV] max_depth=6, n_estimators=125 ...................................\n",
      "[CV] ....... max_depth=6, n_estimators=125, score=1.790, total=   0.2s\n",
      "[Parallel(n_jobs=1)]: Done  46 out of  46 | elapsed:    6.2s remaining:    0.0s\n",
      "[CV] max_depth=6, n_estimators=150 ...................................\n",
      "[CV] ....... max_depth=6, n_estimators=150, score=0.739, total=   0.2s\n",
      "[Parallel(n_jobs=1)]: Done  47 out of  47 | elapsed:    6.5s remaining:    0.0s\n",
      "[CV] max_depth=6, n_estimators=150 ...................................\n",
      "[CV] ....... max_depth=6, n_estimators=150, score=1.790, total=   0.2s\n",
      "[Parallel(n_jobs=1)]: Done  48 out of  48 | elapsed:    6.7s remaining:    0.0s\n",
      "[CV] max_depth=7, n_estimators=25 ....................................\n",
      "[CV] ........ max_depth=7, n_estimators=25, score=0.895, total=   0.0s\n",
      "[Parallel(n_jobs=1)]: Done  49 out of  49 | elapsed:    6.7s remaining:    0.0s\n",
      "[CV] max_depth=7, n_estimators=25 ....................................\n",
      "[CV] ........ max_depth=7, n_estimators=25, score=1.796, total=   0.0s\n",
      "[Parallel(n_jobs=1)]: Done  50 out of  50 | elapsed:    6.8s remaining:    0.0s\n",
      "[CV] max_depth=7, n_estimators=50 ....................................\n",
      "[CV] ........ max_depth=7, n_estimators=50, score=0.809, total=   0.1s\n",
      "[Parallel(n_jobs=1)]: Done  51 out of  51 | elapsed:    6.8s remaining:    0.0s\n",
      "[CV] max_depth=7, n_estimators=50 ....................................\n",
      "[CV] ........ max_depth=7, n_estimators=50, score=1.785, total=   0.1s\n",
      "[Parallel(n_jobs=1)]: Done  52 out of  52 | elapsed:    6.9s remaining:    0.0s\n",
      "[CV] max_depth=7, n_estimators=75 ....................................\n",
      "[CV] ........ max_depth=7, n_estimators=75, score=0.843, total=   0.1s\n",
      "[Parallel(n_jobs=1)]: Done  53 out of  53 | elapsed:    7.0s remaining:    0.0s\n",
      "[CV] max_depth=7, n_estimators=75 ....................................\n",
      "[CV] ........ max_depth=7, n_estimators=75, score=1.788, total=   0.1s\n",
      "[Parallel(n_jobs=1)]: Done  54 out of  54 | elapsed:    7.2s remaining:    0.0s\n",
      "[CV] max_depth=7, n_estimators=100 ...................................\n",
      "[CV] ....... max_depth=7, n_estimators=100, score=0.851, total=   0.2s\n",
      "[Parallel(n_jobs=1)]: Done  55 out of  55 | elapsed:    7.3s remaining:    0.0s\n",
      "[CV] max_depth=7, n_estimators=100 ...................................\n",
      "[CV] ....... max_depth=7, n_estimators=100, score=1.788, total=   0.2s\n",
      "[Parallel(n_jobs=1)]: Done  56 out of  56 | elapsed:    7.5s remaining:    0.0s\n",
      "[CV] max_depth=7, n_estimators=125 ...................................\n",
      "[CV] ....... max_depth=7, n_estimators=125, score=0.831, total=   0.2s\n",
      "[Parallel(n_jobs=1)]: Done  57 out of  57 | elapsed:    7.7s remaining:    0.0s\n",
      "[CV] max_depth=7, n_estimators=125 ...................................\n",
      "[CV] ....... max_depth=7, n_estimators=125, score=1.787, total=   0.2s\n",
      "[Parallel(n_jobs=1)]: Done  58 out of  58 | elapsed:    7.8s remaining:    0.0s\n",
      "[CV] max_depth=7, n_estimators=150 ...................................\n",
      "[CV] ....... max_depth=7, n_estimators=150, score=0.788, total=   0.2s\n",
      "[Parallel(n_jobs=1)]: Done  59 out of  59 | elapsed:    8.1s remaining:    0.0s\n",
      "[CV] max_depth=7, n_estimators=150 ...................................\n",
      "[CV] ....... max_depth=7, n_estimators=150, score=1.790, total=   0.2s\n",
      "[Parallel(n_jobs=1)]: Done  60 out of  60 | elapsed:    8.3s remaining:    0.0s\n",
      "[Parallel(n_jobs=1)]: Done  60 out of  60 | elapsed:    8.3s finished\n"
     ]
    }
   ],
   "source": [
    "predictors, targets = get_targets_predictors('heating', 'ng', lim = True)\n",
    "gscv_ng = grid_search_xgbr(predictors, targets.values.ravel(), unique_depths, unique_n_estimators)"
   ]
  },
  {
   "cell_type": "code",
   "execution_count": 25,
   "metadata": {},
   "outputs": [
    {
     "data": {
      "image/png": "[encoded data removed]",
      "text/plain": [
       "<Figure size 432x288 with 1 Axes>"
      ]
     },
     "metadata": {
      "needs_background": "light"
     },
     "output_type": "display_data"
    }
   ],
   "source": [
    "plot_gs_results(gscv_ng, unique_depths, unique_n_estimators)"
   ]
  },
  {
   "cell_type": "code",
   "execution_count": 26,
   "metadata": {},
   "outputs": [
    {
     "name": "stderr",
     "output_type": "stream",
     "text": [
      "/Library/Frameworks/Python.framework/Versions/3.7/lib/python3.7/site-packages/ipykernel_launcher.py:3: DataConversionWarning: A column-vector y was passed when a 1d array was expected. Please change the shape of y to (n_samples,), for example using ravel().\n",
      "  This is separate from the ipykernel package so we can avoid doing imports until\n"
     ]
    }
   ],
   "source": [
    "model = RandomForestRegressor(max_depth = 5, n_estimators = 100)\n",
    "x_train, x_test, y_train, y_test = train_test_split(predictors, targets, test_size = 0.2)\n",
    "model.fit(x_train, y_train)\n",
    "preds = model.predict(x_test)"
   ]
  },
  {
   "cell_type": "code",
   "execution_count": 27,
   "metadata": {},
   "outputs": [
    {
     "data": {
      "text/plain": [
       "<matplotlib.collections.PathCollection at 0x115ae4208>"
      ]
     },
     "execution_count": 27,
     "metadata": {},
     "output_type": "execute_result"
    },
    {
     "data": {
      "image/png": "[encoded data removed]",
      "text/plain": [
       "<Figure size 432x288 with 1 Axes>"
      ]
     },
     "metadata": {
      "needs_background": "light"
     },
     "output_type": "display_data"
    }
   ],
   "source": [
    "plt.scatter(preds, y_test)"
   ]
  },
  {
   "cell_type": "markdown",
   "metadata": {},
   "source": [
    "### Electricity cooling"
   ]
  },
  {
   "cell_type": "code",
   "execution_count": 34,
   "metadata": {},
   "outputs": [
    {
     "name": "stdout",
     "output_type": "stream",
     "text": [
      "Fitting 2 folds for each of 30 candidates, totalling 60 fits\n",
      "[Parallel(n_jobs=1)]: Using backend SequentialBackend with 1 concurrent workers.\n",
      "[CV] max_depth=3, n_estimators=25 ....................................\n",
      "[CV] ........ max_depth=3, n_estimators=25, score=4.879, total=   0.1s\n",
      "[Parallel(n_jobs=1)]: Done   1 out of   1 | elapsed:    0.1s remaining:    0.0s\n",
      "[CV] max_depth=3, n_estimators=25 ....................................\n",
      "[CV] ........ max_depth=3, n_estimators=25, score=3.141, total=   0.1s\n",
      "[Parallel(n_jobs=1)]: Done   2 out of   2 | elapsed:    0.2s remaining:    0.0s\n",
      "[CV] max_depth=3, n_estimators=50 ....................................\n",
      "[CV] ........ max_depth=3, n_estimators=50, score=4.879, total=   0.2s\n",
      "[Parallel(n_jobs=1)]: Done   3 out of   3 | elapsed:    0.4s remaining:    0.0s\n",
      "[CV] max_depth=3, n_estimators=50 ....................................\n",
      "[CV] ........ max_depth=3, n_estimators=50, score=3.101, total=   0.2s\n",
      "[Parallel(n_jobs=1)]: Done   4 out of   4 | elapsed:    0.6s remaining:    0.0s\n",
      "[CV] max_depth=3, n_estimators=75 ....................................\n",
      "[CV] ........ max_depth=3, n_estimators=75, score=4.897, total=   0.3s\n",
      "[Parallel(n_jobs=1)]: Done   5 out of   5 | elapsed:    1.0s remaining:    0.0s\n",
      "[CV] max_depth=3, n_estimators=75 ....................................\n",
      "[CV] ........ max_depth=3, n_estimators=75, score=3.127, total=   0.3s\n",
      "[Parallel(n_jobs=1)]: Done   6 out of   6 | elapsed:    1.3s remaining:    0.0s\n",
      "[CV] max_depth=3, n_estimators=100 ...................................\n",
      "[CV] ....... max_depth=3, n_estimators=100, score=4.887, total=   0.4s\n",
      "[Parallel(n_jobs=1)]: Done   7 out of   7 | elapsed:    1.7s remaining:    0.0s\n",
      "[CV] max_depth=3, n_estimators=100 ...................................\n",
      "[CV] ....... max_depth=3, n_estimators=100, score=3.115, total=   0.5s\n",
      "[Parallel(n_jobs=1)]: Done   8 out of   8 | elapsed:    2.2s remaining:    0.0s\n",
      "[CV] max_depth=3, n_estimators=125 ...................................\n",
      "[CV] ....... max_depth=3, n_estimators=125, score=4.885, total=   0.6s\n",
      "[Parallel(n_jobs=1)]: Done   9 out of   9 | elapsed:    2.7s remaining:    0.0s\n",
      "[CV] max_depth=3, n_estimators=125 ...................................\n",
      "[CV] ....... max_depth=3, n_estimators=125, score=3.104, total=   0.6s\n",
      "[Parallel(n_jobs=1)]: Done  10 out of  10 | elapsed:    3.3s remaining:    0.0s\n",
      "[CV] max_depth=3, n_estimators=150 ...................................\n",
      "[CV] ....... max_depth=3, n_estimators=150, score=4.885, total=   0.6s\n",
      "[Parallel(n_jobs=1)]: Done  11 out of  11 | elapsed:    3.9s remaining:    0.0s\n",
      "[CV] max_depth=3, n_estimators=150 ...................................\n",
      "[CV] ....... max_depth=3, n_estimators=150, score=3.130, total=   0.6s\n",
      "[Parallel(n_jobs=1)]: Done  12 out of  12 | elapsed:    4.5s remaining:    0.0s\n",
      "[CV] max_depth=4, n_estimators=25 ....................................\n",
      "[CV] ........ max_depth=4, n_estimators=25, score=4.812, total=   0.1s\n",
      "[Parallel(n_jobs=1)]: Done  13 out of  13 | elapsed:    4.6s remaining:    0.0s\n",
      "[CV] max_depth=4, n_estimators=25 ....................................\n",
      "[CV] ........ max_depth=4, n_estimators=25, score=3.098, total=   0.1s\n",
      "[Parallel(n_jobs=1)]: Done  14 out of  14 | elapsed:    4.8s remaining:    0.0s\n",
      "[CV] max_depth=4, n_estimators=50 ....................................\n",
      "[CV] ........ max_depth=4, n_estimators=50, score=4.803, total=   0.2s\n",
      "[Parallel(n_jobs=1)]: Done  15 out of  15 | elapsed:    5.0s remaining:    0.0s\n",
      "[CV] max_depth=4, n_estimators=50 ....................................\n",
      "[CV] ........ max_depth=4, n_estimators=50, score=3.034, total=   0.2s\n",
      "[Parallel(n_jobs=1)]: Done  16 out of  16 | elapsed:    5.2s remaining:    0.0s\n",
      "[CV] max_depth=4, n_estimators=75 ....................................\n",
      "[CV] ........ max_depth=4, n_estimators=75, score=4.785, total=   0.4s\n",
      "[Parallel(n_jobs=1)]: Done  17 out of  17 | elapsed:    5.6s remaining:    0.0s\n",
      "[CV] max_depth=4, n_estimators=75 ....................................\n",
      "[CV] ........ max_depth=4, n_estimators=75, score=3.035, total=   0.4s\n",
      "[Parallel(n_jobs=1)]: Done  18 out of  18 | elapsed:    6.0s remaining:    0.0s\n",
      "[CV] max_depth=4, n_estimators=100 ...................................\n",
      "[CV] ....... max_depth=4, n_estimators=100, score=4.777, total=   0.5s\n",
      "[Parallel(n_jobs=1)]: Done  19 out of  19 | elapsed:    6.6s remaining:    0.0s\n",
      "[CV] max_depth=4, n_estimators=100 ...................................\n",
      "[CV] ....... max_depth=4, n_estimators=100, score=3.046, total=   0.5s\n",
      "[Parallel(n_jobs=1)]: Done  20 out of  20 | elapsed:    7.0s remaining:    0.0s\n",
      "[CV] max_depth=4, n_estimators=125 ...................................\n",
      "[CV] ....... max_depth=4, n_estimators=125, score=4.783, total=   0.6s\n",
      "[Parallel(n_jobs=1)]: Done  21 out of  21 | elapsed:    7.6s remaining:    0.0s\n",
      "[CV] max_depth=4, n_estimators=125 ...................................\n",
      "[CV] ....... max_depth=4, n_estimators=125, score=3.021, total=   0.6s\n",
      "[Parallel(n_jobs=1)]: Done  22 out of  22 | elapsed:    8.3s remaining:    0.0s\n",
      "[CV] max_depth=4, n_estimators=150 ...................................\n",
      "[CV] ....... max_depth=4, n_estimators=150, score=4.783, total=   0.7s\n",
      "[Parallel(n_jobs=1)]: Done  23 out of  23 | elapsed:    9.0s remaining:    0.0s\n",
      "[CV] max_depth=4, n_estimators=150 ...................................\n",
      "[CV] ....... max_depth=4, n_estimators=150, score=3.040, total=   0.7s\n",
      "[Parallel(n_jobs=1)]: Done  24 out of  24 | elapsed:    9.7s remaining:    0.0s\n",
      "[CV] max_depth=5, n_estimators=25 ....................................\n",
      "[CV] ........ max_depth=5, n_estimators=25, score=4.699, total=   0.1s\n",
      "[Parallel(n_jobs=1)]: Done  25 out of  25 | elapsed:    9.9s remaining:    0.0s\n",
      "[CV] max_depth=5, n_estimators=25 ....................................\n",
      "[CV] ........ max_depth=5, n_estimators=25, score=2.969, total=   0.2s\n",
      "[Parallel(n_jobs=1)]: Done  26 out of  26 | elapsed:   10.0s remaining:    0.0s\n",
      "[CV] max_depth=5, n_estimators=50 ....................................\n",
      "[CV] ........ max_depth=5, n_estimators=50, score=4.701, total=   0.3s\n",
      "[Parallel(n_jobs=1)]: Done  27 out of  27 | elapsed:   10.3s remaining:    0.0s\n",
      "[CV] max_depth=5, n_estimators=50 ....................................\n",
      "[CV] ........ max_depth=5, n_estimators=50, score=2.943, total=   0.3s\n",
      "[Parallel(n_jobs=1)]: Done  28 out of  28 | elapsed:   10.6s remaining:    0.0s\n",
      "[CV] max_depth=5, n_estimators=75 ....................................\n",
      "[CV] ........ max_depth=5, n_estimators=75, score=4.703, total=   0.4s\n",
      "[Parallel(n_jobs=1)]: Done  29 out of  29 | elapsed:   11.0s remaining:    0.0s\n",
      "[CV] max_depth=5, n_estimators=75 ....................................\n",
      "[CV] ........ max_depth=5, n_estimators=75, score=2.954, total=   0.4s\n",
      "[Parallel(n_jobs=1)]: Done  30 out of  30 | elapsed:   11.4s remaining:    0.0s\n",
      "[CV] max_depth=5, n_estimators=100 ...................................\n",
      "[CV] ....... max_depth=5, n_estimators=100, score=4.687, total=   0.5s\n",
      "[Parallel(n_jobs=1)]: Done  31 out of  31 | elapsed:   11.9s remaining:    0.0s\n",
      "[CV] max_depth=5, n_estimators=100 ...................................\n",
      "[CV] ....... max_depth=5, n_estimators=100, score=2.960, total=   0.6s\n",
      "[Parallel(n_jobs=1)]: Done  32 out of  32 | elapsed:   12.5s remaining:    0.0s\n",
      "[CV] max_depth=5, n_estimators=125 ...................................\n",
      "[CV] ....... max_depth=5, n_estimators=125, score=4.686, total=   0.7s\n",
      "[Parallel(n_jobs=1)]: Done  33 out of  33 | elapsed:   13.1s remaining:    0.0s\n",
      "[CV] max_depth=5, n_estimators=125 ...................................\n",
      "[CV] ....... max_depth=5, n_estimators=125, score=2.968, total=   0.7s\n",
      "[Parallel(n_jobs=1)]: Done  34 out of  34 | elapsed:   13.8s remaining:    0.0s\n",
      "[CV] max_depth=5, n_estimators=150 ...................................\n",
      "[CV] ....... max_depth=5, n_estimators=150, score=4.697, total=   0.8s\n",
      "[Parallel(n_jobs=1)]: Done  35 out of  35 | elapsed:   14.6s remaining:    0.0s\n",
      "[CV] max_depth=5, n_estimators=150 ...................................\n",
      "[CV] ....... max_depth=5, n_estimators=150, score=2.972, total=   0.8s\n",
      "[Parallel(n_jobs=1)]: Done  36 out of  36 | elapsed:   15.4s remaining:    0.0s\n",
      "[CV] max_depth=6, n_estimators=25 ....................................\n",
      "[CV] ........ max_depth=6, n_estimators=25, score=4.663, total=   0.2s\n",
      "[Parallel(n_jobs=1)]: Done  37 out of  37 | elapsed:   15.6s remaining:    0.0s\n",
      "[CV] max_depth=6, n_estimators=25 ....................................\n"
     ]
    },
    {
     "name": "stdout",
     "output_type": "stream",
     "text": [
      "[CV] ........ max_depth=6, n_estimators=25, score=2.922, total=   0.2s\n",
      "[Parallel(n_jobs=1)]: Done  38 out of  38 | elapsed:   15.7s remaining:    0.0s\n",
      "[CV] max_depth=6, n_estimators=50 ....................................\n",
      "[CV] ........ max_depth=6, n_estimators=50, score=4.662, total=   0.3s\n",
      "[Parallel(n_jobs=1)]: Done  39 out of  39 | elapsed:   16.1s remaining:    0.0s\n",
      "[CV] max_depth=6, n_estimators=50 ....................................\n",
      "[CV] ........ max_depth=6, n_estimators=50, score=2.911, total=   0.3s\n",
      "[Parallel(n_jobs=1)]: Done  40 out of  40 | elapsed:   16.4s remaining:    0.0s\n",
      "[CV] max_depth=6, n_estimators=75 ....................................\n",
      "[CV] ........ max_depth=6, n_estimators=75, score=4.640, total=   0.5s\n",
      "[Parallel(n_jobs=1)]: Done  41 out of  41 | elapsed:   16.8s remaining:    0.0s\n",
      "[CV] max_depth=6, n_estimators=75 ....................................\n",
      "[CV] ........ max_depth=6, n_estimators=75, score=2.903, total=   0.4s\n",
      "[Parallel(n_jobs=1)]: Done  42 out of  42 | elapsed:   17.3s remaining:    0.0s\n",
      "[CV] max_depth=6, n_estimators=100 ...................................\n",
      "[CV] ....... max_depth=6, n_estimators=100, score=4.653, total=   0.6s\n",
      "[Parallel(n_jobs=1)]: Done  43 out of  43 | elapsed:   17.8s remaining:    0.0s\n",
      "[CV] max_depth=6, n_estimators=100 ...................................\n",
      "[CV] ....... max_depth=6, n_estimators=100, score=2.880, total=   0.6s\n",
      "[Parallel(n_jobs=1)]: Done  44 out of  44 | elapsed:   18.4s remaining:    0.0s\n",
      "[CV] max_depth=6, n_estimators=125 ...................................\n",
      "[CV] ....... max_depth=6, n_estimators=125, score=4.638, total=   0.8s\n",
      "[Parallel(n_jobs=1)]: Done  45 out of  45 | elapsed:   19.2s remaining:    0.0s\n",
      "[CV] max_depth=6, n_estimators=125 ...................................\n",
      "[CV] ....... max_depth=6, n_estimators=125, score=2.899, total=   0.8s\n",
      "[Parallel(n_jobs=1)]: Done  46 out of  46 | elapsed:   19.9s remaining:    0.0s\n",
      "[CV] max_depth=6, n_estimators=150 ...................................\n",
      "[CV] ....... max_depth=6, n_estimators=150, score=4.640, total=   0.9s\n",
      "[Parallel(n_jobs=1)]: Done  47 out of  47 | elapsed:   20.9s remaining:    0.0s\n",
      "[CV] max_depth=6, n_estimators=150 ...................................\n",
      "[CV] ....... max_depth=6, n_estimators=150, score=2.891, total=   0.9s\n",
      "[Parallel(n_jobs=1)]: Done  48 out of  48 | elapsed:   21.8s remaining:    0.0s\n",
      "[CV] max_depth=7, n_estimators=25 ....................................\n",
      "[CV] ........ max_depth=7, n_estimators=25, score=4.625, total=   0.2s\n",
      "[Parallel(n_jobs=1)]: Done  49 out of  49 | elapsed:   21.9s remaining:    0.0s\n",
      "[CV] max_depth=7, n_estimators=25 ....................................\n",
      "[CV] ........ max_depth=7, n_estimators=25, score=2.865, total=   0.2s\n",
      "[Parallel(n_jobs=1)]: Done  50 out of  50 | elapsed:   22.1s remaining:    0.0s\n",
      "[CV] max_depth=7, n_estimators=50 ....................................\n",
      "[CV] ........ max_depth=7, n_estimators=50, score=4.637, total=   0.3s\n",
      "[Parallel(n_jobs=1)]: Done  51 out of  51 | elapsed:   22.4s remaining:    0.0s\n",
      "[CV] max_depth=7, n_estimators=50 ....................................\n",
      "[CV] ........ max_depth=7, n_estimators=50, score=2.870, total=   0.3s\n",
      "[Parallel(n_jobs=1)]: Done  52 out of  52 | elapsed:   22.8s remaining:    0.0s\n",
      "[CV] max_depth=7, n_estimators=75 ....................................\n",
      "[CV] ........ max_depth=7, n_estimators=75, score=4.632, total=   0.5s\n",
      "[Parallel(n_jobs=1)]: Done  53 out of  53 | elapsed:   23.3s remaining:    0.0s\n",
      "[CV] max_depth=7, n_estimators=75 ....................................\n",
      "[CV] ........ max_depth=7, n_estimators=75, score=2.879, total=   0.5s\n",
      "[Parallel(n_jobs=1)]: Done  54 out of  54 | elapsed:   23.7s remaining:    0.0s\n",
      "[CV] max_depth=7, n_estimators=100 ...................................\n",
      "[CV] ....... max_depth=7, n_estimators=100, score=4.601, total=   0.7s\n",
      "[Parallel(n_jobs=1)]: Done  55 out of  55 | elapsed:   24.4s remaining:    0.0s\n",
      "[CV] max_depth=7, n_estimators=100 ...................................\n",
      "[CV] ....... max_depth=7, n_estimators=100, score=2.870, total=   0.7s\n",
      "[Parallel(n_jobs=1)]: Done  56 out of  56 | elapsed:   25.1s remaining:    0.0s\n",
      "[CV] max_depth=7, n_estimators=125 ...................................\n",
      "[CV] ....... max_depth=7, n_estimators=125, score=4.626, total=   0.9s\n",
      "[Parallel(n_jobs=1)]: Done  57 out of  57 | elapsed:   26.0s remaining:    0.0s\n",
      "[CV] max_depth=7, n_estimators=125 ...................................\n",
      "[CV] ....... max_depth=7, n_estimators=125, score=2.863, total=   0.8s\n",
      "[Parallel(n_jobs=1)]: Done  58 out of  58 | elapsed:   26.8s remaining:    0.0s\n",
      "[CV] max_depth=7, n_estimators=150 ...................................\n",
      "[CV] ....... max_depth=7, n_estimators=150, score=4.627, total=   1.0s\n",
      "[Parallel(n_jobs=1)]: Done  59 out of  59 | elapsed:   27.8s remaining:    0.0s\n",
      "[CV] max_depth=7, n_estimators=150 ...................................\n",
      "[CV] ....... max_depth=7, n_estimators=150, score=2.864, total=   1.0s\n",
      "[Parallel(n_jobs=1)]: Done  60 out of  60 | elapsed:   28.8s remaining:    0.0s\n",
      "[Parallel(n_jobs=1)]: Done  60 out of  60 | elapsed:   28.8s finished\n"
     ]
    }
   ],
   "source": [
    "predictors, targets = get_targets_predictors('cooling', 'elec', lim = True)\n",
    "gscv_elec_cooling = grid_search_xgbr(predictors, targets.values.ravel(), unique_depths, unique_n_estimators)"
   ]
  },
  {
   "cell_type": "code",
   "execution_count": 36,
   "metadata": {},
   "outputs": [
    {
     "data": {
      "image/png": "[encoded data removed]",
      "text/plain": [
       "<Figure size 432x288 with 1 Axes>"
      ]
     },
     "metadata": {
      "needs_background": "light"
     },
     "output_type": "display_data"
    }
   ],
   "source": [
    "plot_gs_results(gscv_elec_cooling, unique_depths, unique_n_estimators)"
   ]
  },
  {
   "cell_type": "code",
   "execution_count": 57,
   "metadata": {},
   "outputs": [
    {
     "name": "stderr",
     "output_type": "stream",
     "text": [
      "/Library/Frameworks/Python.framework/Versions/3.7/lib/python3.7/site-packages/ipykernel_launcher.py:3: DataConversionWarning: A column-vector y was passed when a 1d array was expected. Please change the shape of y to (n_samples,), for example using ravel().\n",
      "  This is separate from the ipykernel package so we can avoid doing imports until\n"
     ]
    }
   ],
   "source": [
    "model = RandomForestRegressor(max_depth = 5, n_estimators = 100)\n",
    "x_train, x_test, y_train, y_test = train_test_split(predictors, targets, test_size = 0.2, random_state = 6)\n",
    "model.fit(x_train, y_train)\n",
    "preds = model.predict(x_test)"
   ]
  },
  {
   "cell_type": "code",
   "execution_count": 58,
   "metadata": {},
   "outputs": [
    {
     "data": {
      "text/plain": [
       "<matplotlib.collections.PathCollection at 0x115e04128>"
      ]
     },
     "execution_count": 58,
     "metadata": {},
     "output_type": "execute_result"
    },
    {
     "data": {
      "image/png": "[encoded data removed]",
      "text/plain": [
       "<Figure size 432x288 with 1 Axes>"
      ]
     },
     "metadata": {
      "needs_background": "light"
     },
     "output_type": "display_data"
    }
   ],
   "source": [
    "y_test = np.transpose(y_test)\n",
    "plt.scatter(preds, y_test)"
   ]
  },
  {
   "cell_type": "code",
   "execution_count": null,
   "metadata": {},
   "outputs": [],
   "source": []
  },
  {
   "cell_type": "code",
   "execution_count": null,
   "metadata": {},
   "outputs": [],
   "source": []
  }
 ],
 "metadata": {
  "kernelspec": {
   "display_name": "Python 3",
   "language": "python",
   "name": "python3"
  },
  "language_info": {
   "codemirror_mode": {
    "name": "ipython",
    "version": 3
   },
   "file_extension": ".py",
   "mimetype": "text/x-python",
   "name": "python",
   "nbconvert_exporter": "python",
   "pygments_lexer": "ipython3",
   "version": "3.7.3"
  }
 },
 "nbformat": 4,
 "nbformat_minor": 2
}
