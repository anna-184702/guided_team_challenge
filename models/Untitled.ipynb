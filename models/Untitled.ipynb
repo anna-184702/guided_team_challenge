{
 "cells": [
  {
   "cell_type": "markdown",
   "metadata": {},
   "source": [
    "# Residential models - limited predictor model selection"
   ]
  },
  {
   "cell_type": "code",
   "execution_count": 1,
   "metadata": {},
   "outputs": [],
   "source": [
    "from model_builder import *"
   ]
  },
  {
   "cell_type": "code",
   "execution_count": 2,
   "metadata": {},
   "outputs": [],
   "source": [
    "# Set the model CV search conditions\n",
    "unique_depths = [3, 4, 5, 6] #, 12, 15, 20]\n",
    "unique_n_estimators = [10, 50, 100, 150, 200]"
   ]
  },
  {
   "cell_type": "markdown",
   "metadata": {},
   "source": [
    "### Electric heating"
   ]
  },
  {
   "cell_type": "code",
   "execution_count": 3,
   "metadata": {},
   "outputs": [
    {
     "name": "stdout",
     "output_type": "stream",
     "text": [
      "Fitting 2 folds for each of 20 candidates, totalling 40 fits\n",
      "[Parallel(n_jobs=1)]: Using backend SequentialBackend with 1 concurrent workers.\n",
      "[CV] max_depth=3, n_estimators=10 ....................................\n",
      "[CV] ........ max_depth=3, n_estimators=10, score=0.935, total=   0.5s\n",
      "[Parallel(n_jobs=1)]: Done   1 out of   1 | elapsed:    0.5s remaining:    0.0s\n",
      "[CV] max_depth=3, n_estimators=10 ....................................\n",
      "[CV] ........ max_depth=3, n_estimators=10, score=1.118, total=   0.5s\n",
      "[Parallel(n_jobs=1)]: Done   2 out of   2 | elapsed:    1.0s remaining:    0.0s\n",
      "[CV] max_depth=3, n_estimators=50 ....................................\n",
      "[CV] ........ max_depth=3, n_estimators=50, score=0.941, total=   2.2s\n",
      "[Parallel(n_jobs=1)]: Done   3 out of   3 | elapsed:    3.2s remaining:    0.0s\n",
      "[CV] max_depth=3, n_estimators=50 ....................................\n",
      "[CV] ........ max_depth=3, n_estimators=50, score=1.098, total=   2.3s\n",
      "[Parallel(n_jobs=1)]: Done   4 out of   4 | elapsed:    5.5s remaining:    0.0s\n",
      "[CV] max_depth=3, n_estimators=100 ...................................\n",
      "[CV] ....... max_depth=3, n_estimators=100, score=0.944, total=   4.4s\n",
      "[Parallel(n_jobs=1)]: Done   5 out of   5 | elapsed:    9.9s remaining:    0.0s\n",
      "[CV] max_depth=3, n_estimators=100 ...................................\n",
      "[CV] ....... max_depth=3, n_estimators=100, score=1.093, total=   4.7s\n",
      "[Parallel(n_jobs=1)]: Done   6 out of   6 | elapsed:   14.6s remaining:    0.0s\n",
      "[CV] max_depth=3, n_estimators=150 ...................................\n",
      "[CV] ....... max_depth=3, n_estimators=150, score=0.941, total=   6.9s\n",
      "[Parallel(n_jobs=1)]: Done   7 out of   7 | elapsed:   21.5s remaining:    0.0s\n",
      "[CV] max_depth=3, n_estimators=150 ...................................\n",
      "[CV] ....... max_depth=3, n_estimators=150, score=1.094, total=   7.4s\n",
      "[Parallel(n_jobs=1)]: Done   8 out of   8 | elapsed:   28.9s remaining:    0.0s\n",
      "[CV] max_depth=3, n_estimators=200 ...................................\n",
      "[CV] ....... max_depth=3, n_estimators=200, score=0.939, total=   8.8s\n",
      "[Parallel(n_jobs=1)]: Done   9 out of   9 | elapsed:   37.7s remaining:    0.0s\n",
      "[CV] max_depth=3, n_estimators=200 ...................................\n",
      "[CV] ....... max_depth=3, n_estimators=200, score=1.087, total=   9.2s\n",
      "[Parallel(n_jobs=1)]: Done  10 out of  10 | elapsed:   46.9s remaining:    0.0s\n",
      "[CV] max_depth=4, n_estimators=10 ....................................\n",
      "[CV] ........ max_depth=4, n_estimators=10, score=0.949, total=   0.6s\n",
      "[Parallel(n_jobs=1)]: Done  11 out of  11 | elapsed:   47.5s remaining:    0.0s\n",
      "[CV] max_depth=4, n_estimators=10 ....................................\n",
      "[CV] ........ max_depth=4, n_estimators=10, score=1.106, total=   0.6s\n",
      "[Parallel(n_jobs=1)]: Done  12 out of  12 | elapsed:   48.1s remaining:    0.0s\n",
      "[CV] max_depth=4, n_estimators=50 ....................................\n",
      "[CV] ........ max_depth=4, n_estimators=50, score=0.920, total=   2.8s\n",
      "[Parallel(n_jobs=1)]: Done  13 out of  13 | elapsed:   51.0s remaining:    0.0s\n",
      "[CV] max_depth=4, n_estimators=50 ....................................\n",
      "[CV] ........ max_depth=4, n_estimators=50, score=1.082, total=   3.2s\n",
      "[Parallel(n_jobs=1)]: Done  14 out of  14 | elapsed:   54.2s remaining:    0.0s\n",
      "[CV] max_depth=4, n_estimators=100 ...................................\n",
      "[CV] ....... max_depth=4, n_estimators=100, score=0.932, total=   5.6s\n",
      "[Parallel(n_jobs=1)]: Done  15 out of  15 | elapsed:   59.8s remaining:    0.0s\n",
      "[CV] max_depth=4, n_estimators=100 ...................................\n",
      "[CV] ....... max_depth=4, n_estimators=100, score=1.075, total=   5.8s\n",
      "[Parallel(n_jobs=1)]: Done  16 out of  16 | elapsed:  1.1min remaining:    0.0s\n",
      "[CV] max_depth=4, n_estimators=150 ...................................\n",
      "[CV] ....... max_depth=4, n_estimators=150, score=0.920, total=   9.7s\n",
      "[Parallel(n_jobs=1)]: Done  17 out of  17 | elapsed:  1.3min remaining:    0.0s\n",
      "[CV] max_depth=4, n_estimators=150 ...................................\n",
      "[CV] ....... max_depth=4, n_estimators=150, score=1.080, total=   9.9s\n",
      "[Parallel(n_jobs=1)]: Done  18 out of  18 | elapsed:  1.4min remaining:    0.0s\n",
      "[CV] max_depth=4, n_estimators=200 ...................................\n",
      "[CV] ....... max_depth=4, n_estimators=200, score=0.921, total=  13.1s\n",
      "[Parallel(n_jobs=1)]: Done  19 out of  19 | elapsed:  1.6min remaining:    0.0s\n",
      "[CV] max_depth=4, n_estimators=200 ...................................\n",
      "[CV] ....... max_depth=4, n_estimators=200, score=1.073, total=  17.5s\n",
      "[Parallel(n_jobs=1)]: Done  20 out of  20 | elapsed:  1.9min remaining:    0.0s\n",
      "[CV] max_depth=5, n_estimators=10 ....................................\n",
      "[CV] ........ max_depth=5, n_estimators=10, score=0.940, total=   1.0s\n",
      "[Parallel(n_jobs=1)]: Done  21 out of  21 | elapsed:  1.9min remaining:    0.0s\n",
      "[CV] max_depth=5, n_estimators=10 ....................................\n",
      "[CV] ........ max_depth=5, n_estimators=10, score=1.092, total=   0.8s\n",
      "[Parallel(n_jobs=1)]: Done  22 out of  22 | elapsed:  2.0min remaining:    0.0s\n",
      "[CV] max_depth=5, n_estimators=50 ....................................\n",
      "[CV] ........ max_depth=5, n_estimators=50, score=0.911, total=   3.9s\n",
      "[Parallel(n_jobs=1)]: Done  23 out of  23 | elapsed:  2.0min remaining:    0.0s\n",
      "[CV] max_depth=5, n_estimators=50 ....................................\n",
      "[CV] ........ max_depth=5, n_estimators=50, score=1.076, total=   3.7s\n",
      "[Parallel(n_jobs=1)]: Done  24 out of  24 | elapsed:  2.1min remaining:    0.0s\n",
      "[CV] max_depth=5, n_estimators=100 ...................................\n",
      "[CV] ....... max_depth=5, n_estimators=100, score=0.914, total=   7.4s\n",
      "[Parallel(n_jobs=1)]: Done  25 out of  25 | elapsed:  2.2min remaining:    0.0s\n",
      "[CV] max_depth=5, n_estimators=100 ...................................\n",
      "[CV] ....... max_depth=5, n_estimators=100, score=1.071, total=   7.3s\n",
      "[Parallel(n_jobs=1)]: Done  26 out of  26 | elapsed:  2.3min remaining:    0.0s\n",
      "[CV] max_depth=5, n_estimators=150 ...................................\n",
      "[CV] ....... max_depth=5, n_estimators=150, score=0.913, total=  10.5s\n",
      "[Parallel(n_jobs=1)]: Done  27 out of  27 | elapsed:  2.5min remaining:    0.0s\n",
      "[CV] max_depth=5, n_estimators=150 ...................................\n",
      "[CV] ....... max_depth=5, n_estimators=150, score=1.065, total=  12.4s\n",
      "[Parallel(n_jobs=1)]: Done  28 out of  28 | elapsed:  2.7min remaining:    0.0s\n",
      "[CV] max_depth=5, n_estimators=200 ...................................\n",
      "[CV] ....... max_depth=5, n_estimators=200, score=0.916, total=  15.7s\n",
      "[Parallel(n_jobs=1)]: Done  29 out of  29 | elapsed:  3.0min remaining:    0.0s\n",
      "[CV] max_depth=5, n_estimators=200 ...................................\n",
      "[CV] ....... max_depth=5, n_estimators=200, score=1.072, total=  24.0s\n",
      "[Parallel(n_jobs=1)]: Done  30 out of  30 | elapsed:  3.4min remaining:    0.0s\n",
      "[CV] max_depth=6, n_estimators=10 ....................................\n",
      "[CV] ........ max_depth=6, n_estimators=10, score=0.952, total=   0.9s\n",
      "[Parallel(n_jobs=1)]: Done  31 out of  31 | elapsed:  3.4min remaining:    0.0s\n",
      "[CV] max_depth=6, n_estimators=10 ....................................\n",
      "[CV] ........ max_depth=6, n_estimators=10, score=1.066, total=   0.9s\n",
      "[Parallel(n_jobs=1)]: Done  32 out of  32 | elapsed:  3.4min remaining:    0.0s\n",
      "[CV] max_depth=6, n_estimators=50 ....................................\n",
      "[CV] ........ max_depth=6, n_estimators=50, score=0.936, total=   4.6s\n",
      "[Parallel(n_jobs=1)]: Done  33 out of  33 | elapsed:  3.5min remaining:    0.0s\n",
      "[CV] max_depth=6, n_estimators=50 ....................................\n",
      "[CV] ........ max_depth=6, n_estimators=50, score=1.052, total=   4.3s\n",
      "[Parallel(n_jobs=1)]: Done  34 out of  34 | elapsed:  3.6min remaining:    0.0s\n",
      "[CV] max_depth=6, n_estimators=100 ...................................\n",
      "[CV] ....... max_depth=6, n_estimators=100, score=0.920, total=   8.8s\n",
      "[Parallel(n_jobs=1)]: Done  35 out of  35 | elapsed:  3.7min remaining:    0.0s\n",
      "[CV] max_depth=6, n_estimators=100 ...................................\n",
      "[CV] ....... max_depth=6, n_estimators=100, score=1.058, total=   8.7s\n",
      "[Parallel(n_jobs=1)]: Done  36 out of  36 | elapsed:  3.8min remaining:    0.0s\n",
      "[CV] max_depth=6, n_estimators=150 ...................................\n"
     ]
    },
    {
     "name": "stdout",
     "output_type": "stream",
     "text": [
      "[CV] ....... max_depth=6, n_estimators=150, score=0.914, total=  11.9s\n",
      "[Parallel(n_jobs=1)]: Done  37 out of  37 | elapsed:  4.0min remaining:    0.0s\n",
      "[CV] max_depth=6, n_estimators=150 ...................................\n",
      "[CV] ....... max_depth=6, n_estimators=150, score=1.044, total=  12.6s\n",
      "[Parallel(n_jobs=1)]: Done  38 out of  38 | elapsed:  4.3min remaining:    0.0s\n",
      "[CV] max_depth=6, n_estimators=200 ...................................\n",
      "[CV] ....... max_depth=6, n_estimators=200, score=0.916, total=  16.4s\n",
      "[Parallel(n_jobs=1)]: Done  39 out of  39 | elapsed:  4.5min remaining:    0.0s\n",
      "[CV] max_depth=6, n_estimators=200 ...................................\n",
      "[CV] ....... max_depth=6, n_estimators=200, score=1.053, total=  18.4s\n",
      "[Parallel(n_jobs=1)]: Done  40 out of  40 | elapsed:  4.8min remaining:    0.0s\n",
      "[Parallel(n_jobs=1)]: Done  40 out of  40 | elapsed:  4.8min finished\n"
     ]
    }
   ],
   "source": [
    "predictors, targets = get_targets_predictors('cooling', 'elec', res = True, lim = True)\n",
    "gscv_elec = grid_search_xgbr(predictors, targets.values.ravel(), unique_depths, unique_n_estimators)"
   ]
  },
  {
   "cell_type": "code",
   "execution_count": 4,
   "metadata": {},
   "outputs": [
    {
     "data": {
      "image/png": "[encoded data removed]",
      "text/plain": [
       "<Figure size 432x288 with 1 Axes>"
      ]
     },
     "metadata": {
      "needs_background": "light"
     },
     "output_type": "display_data"
    }
   ],
   "source": [
    "plot_gs_results(gscv_elec, unique_depths, unique_n_estimators)"
   ]
  },
  {
   "cell_type": "code",
   "execution_count": 5,
   "metadata": {},
   "outputs": [
    {
     "name": "stderr",
     "output_type": "stream",
     "text": [
      "/Library/Frameworks/Python.framework/Versions/3.7/lib/python3.7/site-packages/ipykernel_launcher.py:3: DataConversionWarning: A column-vector y was passed when a 1d array was expected. Please change the shape of y to (n_samples,), for example using ravel().\n",
      "  This is separate from the ipykernel package so we can avoid doing imports until\n"
     ]
    }
   ],
   "source": [
    "model = RandomForestRegressor(max_depth = 6, n_estimators = 150)\n",
    "x_train, x_test, y_train, y_test = train_test_split(predictors, targets, test_size = 0.2)\n",
    "model.fit(x_train, y_train)\n",
    "preds = model.predict(x_test)"
   ]
  },
  {
   "cell_type": "code",
   "execution_count": 6,
   "metadata": {},
   "outputs": [
    {
     "data": {
      "text/plain": [
       "<matplotlib.collections.PathCollection at 0x108da14a8>"
      ]
     },
     "execution_count": 6,
     "metadata": {},
     "output_type": "execute_result"
    },
    {
     "data": {
      "image/png": "[encoded data removed]",
      "text/plain": [
       "<Figure size 432x288 with 1 Axes>"
      ]
     },
     "metadata": {
      "needs_background": "light"
     },
     "output_type": "display_data"
    }
   ],
   "source": [
    "plt.scatter(preds, y_test)"
   ]
  },
  {
   "cell_type": "markdown",
   "metadata": {},
   "source": [
    "### Natural gas heating"
   ]
  },
  {
   "cell_type": "code",
   "execution_count": 7,
   "metadata": {},
   "outputs": [
    {
     "name": "stdout",
     "output_type": "stream",
     "text": [
      "Fitting 2 folds for each of 20 candidates, totalling 40 fits\n",
      "[Parallel(n_jobs=1)]: Using backend SequentialBackend with 1 concurrent workers.\n",
      "[CV] max_depth=3, n_estimators=10 ....................................\n",
      "[CV] ....... max_depth=3, n_estimators=10, score=15.757, total=   0.2s\n",
      "[Parallel(n_jobs=1)]: Done   1 out of   1 | elapsed:    0.2s remaining:    0.0s\n",
      "[CV] max_depth=3, n_estimators=10 ....................................\n",
      "[CV] ....... max_depth=3, n_estimators=10, score=16.853, total=   0.3s\n",
      "[Parallel(n_jobs=1)]: Done   2 out of   2 | elapsed:    0.5s remaining:    0.0s\n",
      "[CV] max_depth=3, n_estimators=50 ....................................\n",
      "[CV] ....... max_depth=3, n_estimators=50, score=15.539, total=   1.0s\n",
      "[Parallel(n_jobs=1)]: Done   3 out of   3 | elapsed:    1.5s remaining:    0.0s\n",
      "[CV] max_depth=3, n_estimators=50 ....................................\n",
      "[CV] ....... max_depth=3, n_estimators=50, score=16.673, total=   1.2s\n",
      "[Parallel(n_jobs=1)]: Done   4 out of   4 | elapsed:    2.6s remaining:    0.0s\n",
      "[CV] max_depth=3, n_estimators=100 ...................................\n",
      "[CV] ...... max_depth=3, n_estimators=100, score=15.382, total=   2.0s\n",
      "[Parallel(n_jobs=1)]: Done   5 out of   5 | elapsed:    4.6s remaining:    0.0s\n",
      "[CV] max_depth=3, n_estimators=100 ...................................\n",
      "[CV] ...... max_depth=3, n_estimators=100, score=16.721, total=   2.1s\n",
      "[Parallel(n_jobs=1)]: Done   6 out of   6 | elapsed:    6.8s remaining:    0.0s\n",
      "[CV] max_depth=3, n_estimators=150 ...................................\n",
      "[CV] ...... max_depth=3, n_estimators=150, score=15.594, total=   2.8s\n",
      "[Parallel(n_jobs=1)]: Done   7 out of   7 | elapsed:    9.6s remaining:    0.0s\n",
      "[CV] max_depth=3, n_estimators=150 ...................................\n",
      "[CV] ...... max_depth=3, n_estimators=150, score=16.858, total=   3.1s\n",
      "[Parallel(n_jobs=1)]: Done   8 out of   8 | elapsed:   12.7s remaining:    0.0s\n",
      "[CV] max_depth=3, n_estimators=200 ...................................\n",
      "[CV] ...... max_depth=3, n_estimators=200, score=15.474, total=   3.8s\n",
      "[Parallel(n_jobs=1)]: Done   9 out of   9 | elapsed:   16.5s remaining:    0.0s\n",
      "[CV] max_depth=3, n_estimators=200 ...................................\n",
      "[CV] ...... max_depth=3, n_estimators=200, score=16.783, total=   5.1s\n",
      "[Parallel(n_jobs=1)]: Done  10 out of  10 | elapsed:   21.6s remaining:    0.0s\n",
      "[CV] max_depth=4, n_estimators=10 ....................................\n",
      "[CV] ....... max_depth=4, n_estimators=10, score=15.150, total=   0.4s\n",
      "[Parallel(n_jobs=1)]: Done  11 out of  11 | elapsed:   22.0s remaining:    0.0s\n",
      "[CV] max_depth=4, n_estimators=10 ....................................\n",
      "[CV] ....... max_depth=4, n_estimators=10, score=16.362, total=   0.3s\n",
      "[Parallel(n_jobs=1)]: Done  12 out of  12 | elapsed:   22.3s remaining:    0.0s\n",
      "[CV] max_depth=4, n_estimators=50 ....................................\n",
      "[CV] ....... max_depth=4, n_estimators=50, score=14.486, total=   1.3s\n",
      "[Parallel(n_jobs=1)]: Done  13 out of  13 | elapsed:   23.6s remaining:    0.0s\n",
      "[CV] max_depth=4, n_estimators=50 ....................................\n",
      "[CV] ....... max_depth=4, n_estimators=50, score=15.565, total=   1.3s\n",
      "[Parallel(n_jobs=1)]: Done  14 out of  14 | elapsed:   24.9s remaining:    0.0s\n",
      "[CV] max_depth=4, n_estimators=100 ...................................\n",
      "[CV] ...... max_depth=4, n_estimators=100, score=14.765, total=   2.4s\n",
      "[Parallel(n_jobs=1)]: Done  15 out of  15 | elapsed:   27.3s remaining:    0.0s\n",
      "[CV] max_depth=4, n_estimators=100 ...................................\n",
      "[CV] ...... max_depth=4, n_estimators=100, score=15.698, total=   3.1s\n",
      "[Parallel(n_jobs=1)]: Done  16 out of  16 | elapsed:   30.5s remaining:    0.0s\n",
      "[CV] max_depth=4, n_estimators=150 ...................................\n",
      "[CV] ...... max_depth=4, n_estimators=150, score=14.934, total=   4.2s\n",
      "[Parallel(n_jobs=1)]: Done  17 out of  17 | elapsed:   34.7s remaining:    0.0s\n",
      "[CV] max_depth=4, n_estimators=150 ...................................\n",
      "[CV] ...... max_depth=4, n_estimators=150, score=15.630, total=   4.3s\n",
      "[Parallel(n_jobs=1)]: Done  18 out of  18 | elapsed:   39.0s remaining:    0.0s\n",
      "[CV] max_depth=4, n_estimators=200 ...................................\n",
      "[CV] ...... max_depth=4, n_estimators=200, score=14.967, total=   5.6s\n",
      "[Parallel(n_jobs=1)]: Done  19 out of  19 | elapsed:   44.5s remaining:    0.0s\n",
      "[CV] max_depth=4, n_estimators=200 ...................................\n",
      "[CV] ...... max_depth=4, n_estimators=200, score=15.728, total=   5.4s\n",
      "[Parallel(n_jobs=1)]: Done  20 out of  20 | elapsed:   49.9s remaining:    0.0s\n",
      "[CV] max_depth=5, n_estimators=10 ....................................\n",
      "[CV] ....... max_depth=5, n_estimators=10, score=15.393, total=   0.3s\n",
      "[Parallel(n_jobs=1)]: Done  21 out of  21 | elapsed:   50.2s remaining:    0.0s\n",
      "[CV] max_depth=5, n_estimators=10 ....................................\n",
      "[CV] ....... max_depth=5, n_estimators=10, score=15.880, total=   0.5s\n",
      "[Parallel(n_jobs=1)]: Done  22 out of  22 | elapsed:   50.7s remaining:    0.0s\n",
      "[CV] max_depth=5, n_estimators=50 ....................................\n",
      "[CV] ....... max_depth=5, n_estimators=50, score=14.405, total=   3.4s\n",
      "[Parallel(n_jobs=1)]: Done  23 out of  23 | elapsed:   54.1s remaining:    0.0s\n",
      "[CV] max_depth=5, n_estimators=50 ....................................\n",
      "[CV] ....... max_depth=5, n_estimators=50, score=15.105, total=   3.1s\n",
      "[Parallel(n_jobs=1)]: Done  24 out of  24 | elapsed:   57.1s remaining:    0.0s\n",
      "[CV] max_depth=5, n_estimators=100 ...................................\n",
      "[CV] ...... max_depth=5, n_estimators=100, score=14.300, total=   6.2s\n",
      "[Parallel(n_jobs=1)]: Done  25 out of  25 | elapsed:  1.1min remaining:    0.0s\n",
      "[CV] max_depth=5, n_estimators=100 ...................................\n",
      "[CV] ...... max_depth=5, n_estimators=100, score=15.164, total=   4.3s\n",
      "[Parallel(n_jobs=1)]: Done  26 out of  26 | elapsed:  1.1min remaining:    0.0s\n",
      "[CV] max_depth=5, n_estimators=150 ...................................\n",
      "[CV] ...... max_depth=5, n_estimators=150, score=14.440, total=   4.5s\n",
      "[Parallel(n_jobs=1)]: Done  27 out of  27 | elapsed:  1.2min remaining:    0.0s\n",
      "[CV] max_depth=5, n_estimators=150 ...................................\n",
      "[CV] ...... max_depth=5, n_estimators=150, score=15.204, total=   5.2s\n",
      "[Parallel(n_jobs=1)]: Done  28 out of  28 | elapsed:  1.3min remaining:    0.0s\n",
      "[CV] max_depth=5, n_estimators=200 ...................................\n",
      "[CV] ...... max_depth=5, n_estimators=200, score=14.427, total=   6.7s\n",
      "[Parallel(n_jobs=1)]: Done  29 out of  29 | elapsed:  1.4min remaining:    0.0s\n",
      "[CV] max_depth=5, n_estimators=200 ...................................\n",
      "[CV] ...... max_depth=5, n_estimators=200, score=15.159, total=   6.3s\n",
      "[Parallel(n_jobs=1)]: Done  30 out of  30 | elapsed:  1.5min remaining:    0.0s\n",
      "[CV] max_depth=6, n_estimators=10 ....................................\n",
      "[CV] ....... max_depth=6, n_estimators=10, score=16.112, total=   0.4s\n",
      "[Parallel(n_jobs=1)]: Done  31 out of  31 | elapsed:  1.5min remaining:    0.0s\n",
      "[CV] max_depth=6, n_estimators=10 ....................................\n",
      "[CV] ....... max_depth=6, n_estimators=10, score=15.157, total=   0.4s\n",
      "[Parallel(n_jobs=1)]: Done  32 out of  32 | elapsed:  1.5min remaining:    0.0s\n",
      "[CV] max_depth=6, n_estimators=50 ....................................\n",
      "[CV] ....... max_depth=6, n_estimators=50, score=14.485, total=   1.9s\n",
      "[Parallel(n_jobs=1)]: Done  33 out of  33 | elapsed:  1.6min remaining:    0.0s\n",
      "[CV] max_depth=6, n_estimators=50 ....................................\n",
      "[CV] ....... max_depth=6, n_estimators=50, score=14.960, total=   1.9s\n",
      "[Parallel(n_jobs=1)]: Done  34 out of  34 | elapsed:  1.6min remaining:    0.0s\n",
      "[CV] max_depth=6, n_estimators=100 ...................................\n",
      "[CV] ...... max_depth=6, n_estimators=100, score=14.518, total=   4.0s\n",
      "[Parallel(n_jobs=1)]: Done  35 out of  35 | elapsed:  1.7min remaining:    0.0s\n",
      "[CV] max_depth=6, n_estimators=100 ...................................\n",
      "[CV] ...... max_depth=6, n_estimators=100, score=14.842, total=   4.1s\n",
      "[Parallel(n_jobs=1)]: Done  36 out of  36 | elapsed:  1.7min remaining:    0.0s\n",
      "[CV] max_depth=6, n_estimators=150 ...................................\n"
     ]
    },
    {
     "name": "stdout",
     "output_type": "stream",
     "text": [
      "[CV] ...... max_depth=6, n_estimators=150, score=14.231, total=   8.8s\n",
      "[Parallel(n_jobs=1)]: Done  37 out of  37 | elapsed:  1.9min remaining:    0.0s\n",
      "[CV] max_depth=6, n_estimators=150 ...................................\n",
      "[CV] ...... max_depth=6, n_estimators=150, score=14.785, total=   5.8s\n",
      "[Parallel(n_jobs=1)]: Done  38 out of  38 | elapsed:  2.0min remaining:    0.0s\n",
      "[CV] max_depth=6, n_estimators=200 ...................................\n",
      "[CV] ...... max_depth=6, n_estimators=200, score=14.202, total=  10.9s\n",
      "[Parallel(n_jobs=1)]: Done  39 out of  39 | elapsed:  2.1min remaining:    0.0s\n",
      "[CV] max_depth=6, n_estimators=200 ...................................\n",
      "[CV] ...... max_depth=6, n_estimators=200, score=14.935, total=   8.4s\n",
      "[Parallel(n_jobs=1)]: Done  40 out of  40 | elapsed:  2.3min remaining:    0.0s\n",
      "[Parallel(n_jobs=1)]: Done  40 out of  40 | elapsed:  2.3min finished\n"
     ]
    }
   ],
   "source": [
    "predictors, targets = get_targets_predictors('heating', 'ng', res = True, lim = True)\n",
    "gscv_ng = grid_search_xgbr(predictors, targets.values.ravel(), unique_depths, unique_n_estimators)"
   ]
  },
  {
   "cell_type": "code",
   "execution_count": 9,
   "metadata": {},
   "outputs": [
    {
     "data": {
      "image/png": "[encoded data removed]",
      "text/plain": [
       "<Figure size 432x288 with 1 Axes>"
      ]
     },
     "metadata": {
      "needs_background": "light"
     },
     "output_type": "display_data"
    }
   ],
   "source": [
    "plot_gs_results(gscv_ng, unique_depths, unique_n_estimators)"
   ]
  },
  {
   "cell_type": "code",
   "execution_count": 14,
   "metadata": {},
   "outputs": [
    {
     "name": "stderr",
     "output_type": "stream",
     "text": [
      "/Library/Frameworks/Python.framework/Versions/3.7/lib/python3.7/site-packages/ipykernel_launcher.py:3: DataConversionWarning: A column-vector y was passed when a 1d array was expected. Please change the shape of y to (n_samples,), for example using ravel().\n",
      "  This is separate from the ipykernel package so we can avoid doing imports until\n"
     ]
    }
   ],
   "source": [
    "model = RandomForestRegressor(max_depth = 6, n_estimators = 150)\n",
    "x_train, x_test, y_train, y_test = train_test_split(predictors, targets, test_size = 0.2)\n",
    "model.fit(x_train, y_train)\n",
    "preds = model.predict(x_test)"
   ]
  },
  {
   "cell_type": "code",
   "execution_count": 15,
   "metadata": {},
   "outputs": [
    {
     "data": {
      "text/plain": [
       "<matplotlib.collections.PathCollection at 0x11c3c8710>"
      ]
     },
     "execution_count": 15,
     "metadata": {},
     "output_type": "execute_result"
    },
    {
     "data": {
      "image/png": "[encoded data removed]",
      "text/plain": [
       "<Figure size 432x288 with 1 Axes>"
      ]
     },
     "metadata": {
      "needs_background": "light"
     },
     "output_type": "display_data"
    }
   ],
   "source": [
    "plt.scatter(preds, y_test)"
   ]
  },
  {
   "cell_type": "markdown",
   "metadata": {},
   "source": [
    "### Electric cooling"
   ]
  },
  {
   "cell_type": "code",
   "execution_count": 16,
   "metadata": {},
   "outputs": [
    {
     "name": "stdout",
     "output_type": "stream",
     "text": [
      "Fitting 2 folds for each of 20 candidates, totalling 40 fits\n",
      "[Parallel(n_jobs=1)]: Using backend SequentialBackend with 1 concurrent workers.\n",
      "[CV] max_depth=3, n_estimators=10 ....................................\n",
      "[CV] ........ max_depth=3, n_estimators=10, score=0.952, total=   0.5s\n",
      "[Parallel(n_jobs=1)]: Done   1 out of   1 | elapsed:    0.5s remaining:    0.0s\n",
      "[CV] max_depth=3, n_estimators=10 ....................................\n",
      "[CV] ........ max_depth=3, n_estimators=10, score=1.109, total=   0.5s\n",
      "[Parallel(n_jobs=1)]: Done   2 out of   2 | elapsed:    1.0s remaining:    0.0s\n",
      "[CV] max_depth=3, n_estimators=50 ....................................\n",
      "[CV] ........ max_depth=3, n_estimators=50, score=0.945, total=   2.4s\n",
      "[Parallel(n_jobs=1)]: Done   3 out of   3 | elapsed:    3.4s remaining:    0.0s\n",
      "[CV] max_depth=3, n_estimators=50 ....................................\n",
      "[CV] ........ max_depth=3, n_estimators=50, score=1.096, total=   2.4s\n",
      "[Parallel(n_jobs=1)]: Done   4 out of   4 | elapsed:    5.8s remaining:    0.0s\n",
      "[CV] max_depth=3, n_estimators=100 ...................................\n",
      "[CV] ....... max_depth=3, n_estimators=100, score=0.939, total=   5.3s\n",
      "[Parallel(n_jobs=1)]: Done   5 out of   5 | elapsed:   11.1s remaining:    0.0s\n",
      "[CV] max_depth=3, n_estimators=100 ...................................\n",
      "[CV] ....... max_depth=3, n_estimators=100, score=1.092, total=   4.9s\n",
      "[Parallel(n_jobs=1)]: Done   6 out of   6 | elapsed:   16.0s remaining:    0.0s\n",
      "[CV] max_depth=3, n_estimators=150 ...................................\n",
      "[CV] ....... max_depth=3, n_estimators=150, score=0.944, total=   7.1s\n",
      "[Parallel(n_jobs=1)]: Done   7 out of   7 | elapsed:   23.1s remaining:    0.0s\n",
      "[CV] max_depth=3, n_estimators=150 ...................................\n",
      "[CV] ....... max_depth=3, n_estimators=150, score=1.097, total=   7.6s\n",
      "[Parallel(n_jobs=1)]: Done   8 out of   8 | elapsed:   30.7s remaining:    0.0s\n",
      "[CV] max_depth=3, n_estimators=200 ...................................\n",
      "[CV] ....... max_depth=3, n_estimators=200, score=0.943, total=   9.4s\n",
      "[Parallel(n_jobs=1)]: Done   9 out of   9 | elapsed:   40.1s remaining:    0.0s\n",
      "[CV] max_depth=3, n_estimators=200 ...................................\n",
      "[CV] ....... max_depth=3, n_estimators=200, score=1.088, total=   9.4s\n",
      "[Parallel(n_jobs=1)]: Done  10 out of  10 | elapsed:   49.5s remaining:    0.0s\n",
      "[CV] max_depth=4, n_estimators=10 ....................................\n",
      "[CV] ........ max_depth=4, n_estimators=10, score=0.922, total=   0.7s\n",
      "[Parallel(n_jobs=1)]: Done  11 out of  11 | elapsed:   50.2s remaining:    0.0s\n",
      "[CV] max_depth=4, n_estimators=10 ....................................\n",
      "[CV] ........ max_depth=4, n_estimators=10, score=1.075, total=   0.7s\n",
      "[Parallel(n_jobs=1)]: Done  12 out of  12 | elapsed:   51.0s remaining:    0.0s\n",
      "[CV] max_depth=4, n_estimators=50 ....................................\n",
      "[CV] ........ max_depth=4, n_estimators=50, score=0.929, total=   3.6s\n",
      "[Parallel(n_jobs=1)]: Done  13 out of  13 | elapsed:   54.5s remaining:    0.0s\n",
      "[CV] max_depth=4, n_estimators=50 ....................................\n",
      "[CV] ........ max_depth=4, n_estimators=50, score=1.079, total=   3.4s\n",
      "[Parallel(n_jobs=1)]: Done  14 out of  14 | elapsed:   57.9s remaining:    0.0s\n",
      "[CV] max_depth=4, n_estimators=100 ...................................\n",
      "[CV] ....... max_depth=4, n_estimators=100, score=0.919, total=   5.7s\n",
      "[Parallel(n_jobs=1)]: Done  15 out of  15 | elapsed:  1.1min remaining:    0.0s\n",
      "[CV] max_depth=4, n_estimators=100 ...................................\n",
      "[CV] ....... max_depth=4, n_estimators=100, score=1.092, total=   6.2s\n",
      "[Parallel(n_jobs=1)]: Done  16 out of  16 | elapsed:  1.2min remaining:    0.0s\n",
      "[CV] max_depth=4, n_estimators=150 ...................................\n",
      "[CV] ....... max_depth=4, n_estimators=150, score=0.923, total=   8.6s\n",
      "[Parallel(n_jobs=1)]: Done  17 out of  17 | elapsed:  1.3min remaining:    0.0s\n",
      "[CV] max_depth=4, n_estimators=150 ...................................\n",
      "[CV] ....... max_depth=4, n_estimators=150, score=1.075, total=   9.1s\n",
      "[Parallel(n_jobs=1)]: Done  18 out of  18 | elapsed:  1.5min remaining:    0.0s\n",
      "[CV] max_depth=4, n_estimators=200 ...................................\n",
      "[CV] ....... max_depth=4, n_estimators=200, score=0.925, total=  11.4s\n",
      "[Parallel(n_jobs=1)]: Done  19 out of  19 | elapsed:  1.6min remaining:    0.0s\n",
      "[CV] max_depth=4, n_estimators=200 ...................................\n",
      "[CV] ....... max_depth=4, n_estimators=200, score=1.084, total=  12.0s\n",
      "[Parallel(n_jobs=1)]: Done  20 out of  20 | elapsed:  1.8min remaining:    0.0s\n",
      "[CV] max_depth=5, n_estimators=10 ....................................\n",
      "[CV] ........ max_depth=5, n_estimators=10, score=0.932, total=   0.7s\n",
      "[Parallel(n_jobs=1)]: Done  21 out of  21 | elapsed:  1.9min remaining:    0.0s\n",
      "[CV] max_depth=5, n_estimators=10 ....................................\n",
      "[CV] ........ max_depth=5, n_estimators=10, score=1.097, total=   0.8s\n",
      "[Parallel(n_jobs=1)]: Done  22 out of  22 | elapsed:  1.9min remaining:    0.0s\n",
      "[CV] max_depth=5, n_estimators=50 ....................................\n",
      "[CV] ........ max_depth=5, n_estimators=50, score=0.920, total=   3.8s\n",
      "[Parallel(n_jobs=1)]: Done  23 out of  23 | elapsed:  1.9min remaining:    0.0s\n",
      "[CV] max_depth=5, n_estimators=50 ....................................\n",
      "[CV] ........ max_depth=5, n_estimators=50, score=1.058, total=   3.7s\n",
      "[Parallel(n_jobs=1)]: Done  24 out of  24 | elapsed:  2.0min remaining:    0.0s\n",
      "[CV] max_depth=5, n_estimators=100 ...................................\n",
      "[CV] ....... max_depth=5, n_estimators=100, score=0.922, total=   6.9s\n",
      "[Parallel(n_jobs=1)]: Done  25 out of  25 | elapsed:  2.1min remaining:    0.0s\n",
      "[CV] max_depth=5, n_estimators=100 ...................................\n",
      "[CV] ....... max_depth=5, n_estimators=100, score=1.070, total=   6.9s\n",
      "[Parallel(n_jobs=1)]: Done  26 out of  26 | elapsed:  2.2min remaining:    0.0s\n",
      "[CV] max_depth=5, n_estimators=150 ...................................\n",
      "[CV] ....... max_depth=5, n_estimators=150, score=0.910, total=   9.4s\n",
      "[Parallel(n_jobs=1)]: Done  27 out of  27 | elapsed:  2.4min remaining:    0.0s\n",
      "[CV] max_depth=5, n_estimators=150 ...................................\n",
      "[CV] ....... max_depth=5, n_estimators=150, score=1.064, total=  11.0s\n",
      "[Parallel(n_jobs=1)]: Done  28 out of  28 | elapsed:  2.6min remaining:    0.0s\n",
      "[CV] max_depth=5, n_estimators=200 ...................................\n",
      "[CV] ....... max_depth=5, n_estimators=200, score=0.913, total=  12.5s\n",
      "[Parallel(n_jobs=1)]: Done  29 out of  29 | elapsed:  2.8min remaining:    0.0s\n",
      "[CV] max_depth=5, n_estimators=200 ...................................\n",
      "[CV] ....... max_depth=5, n_estimators=200, score=1.074, total=  13.7s\n",
      "[Parallel(n_jobs=1)]: Done  30 out of  30 | elapsed:  3.0min remaining:    0.0s\n",
      "[CV] max_depth=6, n_estimators=10 ....................................\n",
      "[CV] ........ max_depth=6, n_estimators=10, score=0.923, total=   0.8s\n",
      "[Parallel(n_jobs=1)]: Done  31 out of  31 | elapsed:  3.0min remaining:    0.0s\n",
      "[CV] max_depth=6, n_estimators=10 ....................................\n",
      "[CV] ........ max_depth=6, n_estimators=10, score=1.091, total=   0.9s\n",
      "[Parallel(n_jobs=1)]: Done  32 out of  32 | elapsed:  3.0min remaining:    0.0s\n",
      "[CV] max_depth=6, n_estimators=50 ....................................\n",
      "[CV] ........ max_depth=6, n_estimators=50, score=0.919, total=   4.0s\n",
      "[Parallel(n_jobs=1)]: Done  33 out of  33 | elapsed:  3.1min remaining:    0.0s\n",
      "[CV] max_depth=6, n_estimators=50 ....................................\n",
      "[CV] ........ max_depth=6, n_estimators=50, score=1.049, total=   4.2s\n",
      "[Parallel(n_jobs=1)]: Done  34 out of  34 | elapsed:  3.2min remaining:    0.0s\n",
      "[CV] max_depth=6, n_estimators=100 ...................................\n",
      "[CV] ....... max_depth=6, n_estimators=100, score=0.913, total=   8.1s\n",
      "[Parallel(n_jobs=1)]: Done  35 out of  35 | elapsed:  3.3min remaining:    0.0s\n",
      "[CV] max_depth=6, n_estimators=100 ...................................\n",
      "[CV] ....... max_depth=6, n_estimators=100, score=1.054, total=   8.5s\n",
      "[Parallel(n_jobs=1)]: Done  36 out of  36 | elapsed:  3.5min remaining:    0.0s\n",
      "[CV] max_depth=6, n_estimators=150 ...................................\n"
     ]
    },
    {
     "name": "stdout",
     "output_type": "stream",
     "text": [
      "[CV] ....... max_depth=6, n_estimators=150, score=0.921, total=  12.5s\n",
      "[Parallel(n_jobs=1)]: Done  37 out of  37 | elapsed:  3.7min remaining:    0.0s\n",
      "[CV] max_depth=6, n_estimators=150 ...................................\n",
      "[CV] ....... max_depth=6, n_estimators=150, score=1.049, total=  13.7s\n",
      "[Parallel(n_jobs=1)]: Done  38 out of  38 | elapsed:  3.9min remaining:    0.0s\n",
      "[CV] max_depth=6, n_estimators=200 ...................................\n",
      "[CV] ....... max_depth=6, n_estimators=200, score=0.918, total=  15.6s\n",
      "[Parallel(n_jobs=1)]: Done  39 out of  39 | elapsed:  4.1min remaining:    0.0s\n",
      "[CV] max_depth=6, n_estimators=200 ...................................\n",
      "[CV] ....... max_depth=6, n_estimators=200, score=1.044, total=  16.7s\n",
      "[Parallel(n_jobs=1)]: Done  40 out of  40 | elapsed:  4.4min remaining:    0.0s\n",
      "[Parallel(n_jobs=1)]: Done  40 out of  40 | elapsed:  4.4min finished\n"
     ]
    }
   ],
   "source": [
    "predictors, targets = get_targets_predictors('cooling', 'elec', res = True, lim = True)\n",
    "gscv_elec_cool = grid_search_xgbr(predictors, targets.values.ravel(), unique_depths, unique_n_estimators)"
   ]
  },
  {
   "cell_type": "code",
   "execution_count": 17,
   "metadata": {},
   "outputs": [
    {
     "data": {
      "image/png": "[encoded data removed]",
      "text/plain": [
       "<Figure size 432x288 with 1 Axes>"
      ]
     },
     "metadata": {
      "needs_background": "light"
     },
     "output_type": "display_data"
    }
   ],
   "source": [
    "plot_gs_results(gscv_elec_cool, unique_depths, unique_n_estimators)"
   ]
  },
  {
   "cell_type": "code",
   "execution_count": 18,
   "metadata": {},
   "outputs": [
    {
     "name": "stderr",
     "output_type": "stream",
     "text": [
      "/Library/Frameworks/Python.framework/Versions/3.7/lib/python3.7/site-packages/ipykernel_launcher.py:3: DataConversionWarning: A column-vector y was passed when a 1d array was expected. Please change the shape of y to (n_samples,), for example using ravel().\n",
      "  This is separate from the ipykernel package so we can avoid doing imports until\n"
     ]
    }
   ],
   "source": [
    "model = RandomForestRegressor(max_depth = 6, n_estimators = 100)\n",
    "x_train, x_test, y_train, y_test = train_test_split(predictors, targets, test_size = 0.2)\n",
    "model.fit(x_train, y_train)\n",
    "preds = model.predict(x_test)"
   ]
  },
  {
   "cell_type": "code",
   "execution_count": 19,
   "metadata": {},
   "outputs": [
    {
     "data": {
      "text/plain": [
       "<matplotlib.collections.PathCollection at 0x1179881d0>"
      ]
     },
     "execution_count": 19,
     "metadata": {},
     "output_type": "execute_result"
    },
    {
     "data": {
      "image/png": "[encoded data removed]",
      "text/plain": [
       "<Figure size 432x288 with 1 Axes>"
      ]
     },
     "metadata": {
      "needs_background": "light"
     },
     "output_type": "display_data"
    }
   ],
   "source": [
    "plt.scatter(preds, y_test)"
   ]
  },
  {
   "cell_type": "code",
   "execution_count": 24,
   "metadata": {},
   "outputs": [
    {
     "data": {
      "text/plain": [
       "array([-0.15877566, -1.71195987,  0.35895241, ..., -1.71195987,\n",
       "       -0.15877566, -1.71195987])"
      ]
     },
     "execution_count": 24,
     "metadata": {},
     "output_type": "execute_result"
    }
   ],
   "source": [
    "x_test[:, 0]\n"
   ]
  },
  {
   "cell_type": "code",
   "execution_count": null,
   "metadata": {},
   "outputs": [],
   "source": []
  }
 ],
 "metadata": {
  "kernelspec": {
   "display_name": "Python 3",
   "language": "python",
   "name": "python3"
  },
  "language_info": {
   "codemirror_mode": {
    "name": "ipython",
    "version": 3
   },
   "file_extension": ".py",
   "mimetype": "text/x-python",
   "name": "python",
   "nbconvert_exporter": "python",
   "pygments_lexer": "ipython3",
   "version": "3.7.3"
  }
 },
 "nbformat": 4,
 "nbformat_minor": 2
}
